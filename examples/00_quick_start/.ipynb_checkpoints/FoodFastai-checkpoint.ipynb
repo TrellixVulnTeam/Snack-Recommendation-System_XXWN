{
 "cells": [
  {
   "cell_type": "code",
   "execution_count": null,
   "metadata": {},
   "outputs": [],
   "source": []
  },
  {
   "cell_type": "markdown",
   "metadata": {},
   "source": [
    "<i>Copyright (c) Microsoft Corporation. All rights reserved.</i>\n",
    "\n",
    "<i>Licensed under the MIT License.</i>"
   ]
  },
  {
   "cell_type": "markdown",
   "metadata": {},
   "source": [
    "## FastAI Recommender\n",
    "\n",
    "This notebook shows how to use the [FastAI](https://fast.ai) recommender which is using [Pytorch](https://pytorch.org/) under the hood. "
   ]
  },
  {
   "cell_type": "code",
   "execution_count": 1,
   "metadata": {},
   "outputs": [
    {
     "name": "stdout",
     "output_type": "stream",
     "text": [
      "System version: 3.6.10 |Anaconda, Inc.| (default, May  7 2020, 23:06:31) \n",
      "[GCC 4.2.1 Compatible Clang 4.0.1 (tags/RELEASE_401/final)]\n",
      "Pandas version: 0.25.3\n",
      "Fast AI version: 1.0.61\n",
      "Torch version: 1.1.0\n",
      "Cuda Available: False\n",
      "CuDNN Enabled: True\n"
     ]
    }
   ],
   "source": [
    "# set the environment path to find Recommenders\n",
    "import sys\n",
    "sys.path.append(\"../../\")\n",
    "import time\n",
    "import os\n",
    "import itertools\n",
    "import pandas as pd\n",
    "import numpy as np\n",
    "import papermill as pm\n",
    "import torch, fastai\n",
    "import joblib\n",
    "import warnings\n",
    "\n",
    "warnings.filterwarnings(\"ignore\")\n",
    "from fastai.collab import EmbeddingDotBias, collab_learner, CollabDataBunch, load_learner\n",
    "\n",
    "from reco_utils.dataset import movielens\n",
    "from reco_utils.dataset.python_splitters import python_stratified_split\n",
    "from reco_utils.recommender.fastai.fastai_utils import cartesian_product, score\n",
    "from reco_utils.evaluation.python_evaluation import map_at_k, ndcg_at_k, precision_at_k, recall_at_k\n",
    "from reco_utils.evaluation.python_evaluation import rmse, mae, rsquared, exp_var\n",
    "\n",
    "print(\"System version: {}\".format(sys.version))\n",
    "print(\"Pandas version: {}\".format(pd.__version__))\n",
    "print(\"Fast AI version: {}\".format(fastai.__version__))\n",
    "print(\"Torch version: {}\".format(torch.__version__))\n",
    "print(\"Cuda Available: {}\".format(torch.cuda.is_available()))\n",
    "print(\"CuDNN Enabled: {}\".format(torch.backends.cudnn.enabled))"
   ]
  },
  {
   "cell_type": "code",
   "execution_count": 2,
   "metadata": {},
   "outputs": [],
   "source": [
    "#Defining some constants to refer to the different columns of our dataset.\n"
   ]
  },
  {
   "cell_type": "code",
   "execution_count": 3,
   "metadata": {},
   "outputs": [],
   "source": [
    "USER, PRODUCT, RATING, PRODNAME, PREDICTION, PRICE = 'userId', 'productId', 'ratings', 'Product Name','Prediction' ,'Price'\n",
    "\n"
   ]
  },
  {
   "cell_type": "code",
   "execution_count": 4,
   "metadata": {},
   "outputs": [
    {
     "data": {
      "text/plain": [
       "'userId'"
      ]
     },
     "execution_count": 4,
     "metadata": {},
     "output_type": "execute_result"
    }
   ],
   "source": [
    "USER"
   ]
  },
  {
   "cell_type": "code",
   "execution_count": 5,
   "metadata": {
    "tags": [
     "parameters"
    ]
   },
   "outputs": [],
   "source": [
    "\n",
    "\n",
    "# Select MovieLens data size: 100k, 1m, 10m, or 20m\n",
    "FOOD_DATA_SIZE = '10k'\n",
    "\n",
    "# Model parameters\n",
    "N_FACTORS = 40\n",
    "EPOCHS = 5"
   ]
  },
  {
   "cell_type": "code",
   "execution_count": 6,
   "metadata": {},
   "outputs": [],
   "source": [
    "food_rate_df = pd.read_csv(\"FinalFood.csv\")"
   ]
  },
  {
   "cell_type": "code",
   "execution_count": 7,
   "metadata": {},
   "outputs": [],
   "source": [
    "food_rate_df.rename(columns = {'Product Name':'Product_Name'}, inplace = True) "
   ]
  },
  {
   "cell_type": "code",
   "execution_count": 8,
   "metadata": {},
   "outputs": [
    {
     "data": {
      "text/html": [
       "<div>\n",
       "<style scoped>\n",
       "    .dataframe tbody tr th:only-of-type {\n",
       "        vertical-align: middle;\n",
       "    }\n",
       "\n",
       "    .dataframe tbody tr th {\n",
       "        vertical-align: top;\n",
       "    }\n",
       "\n",
       "    .dataframe thead th {\n",
       "        text-align: right;\n",
       "    }\n",
       "</style>\n",
       "<table border=\"1\" class=\"dataframe\">\n",
       "  <thead>\n",
       "    <tr style=\"text-align: right;\">\n",
       "      <th></th>\n",
       "      <th>userId</th>\n",
       "      <th>productId</th>\n",
       "      <th>ratings</th>\n",
       "      <th>Product_Name</th>\n",
       "      <th>Price</th>\n",
       "    </tr>\n",
       "  </thead>\n",
       "  <tbody>\n",
       "    <tr>\n",
       "      <th>0</th>\n",
       "      <td>998</td>\n",
       "      <td>116</td>\n",
       "      <td>2</td>\n",
       "      <td>Salad</td>\n",
       "      <td>6</td>\n",
       "    </tr>\n",
       "    <tr>\n",
       "      <th>1</th>\n",
       "      <td>948</td>\n",
       "      <td>121</td>\n",
       "      <td>2</td>\n",
       "      <td>Milk</td>\n",
       "      <td>9</td>\n",
       "    </tr>\n",
       "    <tr>\n",
       "      <th>2</th>\n",
       "      <td>776</td>\n",
       "      <td>126</td>\n",
       "      <td>1</td>\n",
       "      <td>Tuna</td>\n",
       "      <td>5</td>\n",
       "    </tr>\n",
       "    <tr>\n",
       "      <th>3</th>\n",
       "      <td>224</td>\n",
       "      <td>109</td>\n",
       "      <td>1</td>\n",
       "      <td>Cupcake</td>\n",
       "      <td>9</td>\n",
       "    </tr>\n",
       "    <tr>\n",
       "      <th>4</th>\n",
       "      <td>657</td>\n",
       "      <td>124</td>\n",
       "      <td>2</td>\n",
       "      <td>Carrots</td>\n",
       "      <td>10</td>\n",
       "    </tr>\n",
       "    <tr>\n",
       "      <th>...</th>\n",
       "      <td>...</td>\n",
       "      <td>...</td>\n",
       "      <td>...</td>\n",
       "      <td>...</td>\n",
       "      <td>...</td>\n",
       "    </tr>\n",
       "    <tr>\n",
       "      <th>14403</th>\n",
       "      <td>986</td>\n",
       "      <td>113</td>\n",
       "      <td>3</td>\n",
       "      <td>walnut</td>\n",
       "      <td>14</td>\n",
       "    </tr>\n",
       "    <tr>\n",
       "      <th>14404</th>\n",
       "      <td>75</td>\n",
       "      <td>111</td>\n",
       "      <td>3</td>\n",
       "      <td>Cereals</td>\n",
       "      <td>5</td>\n",
       "    </tr>\n",
       "    <tr>\n",
       "      <th>14405</th>\n",
       "      <td>761</td>\n",
       "      <td>103</td>\n",
       "      <td>5</td>\n",
       "      <td>Cheese</td>\n",
       "      <td>6</td>\n",
       "    </tr>\n",
       "    <tr>\n",
       "      <th>14406</th>\n",
       "      <td>181</td>\n",
       "      <td>110</td>\n",
       "      <td>4</td>\n",
       "      <td>Curly Kale</td>\n",
       "      <td>5</td>\n",
       "    </tr>\n",
       "    <tr>\n",
       "      <th>14407</th>\n",
       "      <td>310</td>\n",
       "      <td>128</td>\n",
       "      <td>3</td>\n",
       "      <td>coconut water</td>\n",
       "      <td>15</td>\n",
       "    </tr>\n",
       "  </tbody>\n",
       "</table>\n",
       "<p>14408 rows × 5 columns</p>\n",
       "</div>"
      ],
      "text/plain": [
       "       userId  productId  ratings   Product_Name  Price\n",
       "0         998        116        2          Salad      6\n",
       "1         948        121        2           Milk      9\n",
       "2         776        126        1           Tuna      5\n",
       "3         224        109        1        Cupcake      9\n",
       "4         657        124        2        Carrots     10\n",
       "...       ...        ...      ...            ...    ...\n",
       "14403     986        113        3         walnut     14\n",
       "14404      75        111        3        Cereals      5\n",
       "14405     761        103        5         Cheese      6\n",
       "14406     181        110        4     Curly Kale      5\n",
       "14407     310        128        3  coconut water     15\n",
       "\n",
       "[14408 rows x 5 columns]"
      ]
     },
     "execution_count": 8,
     "metadata": {},
     "output_type": "execute_result"
    }
   ],
   "source": [
    "food_rate_df"
   ]
  },
  {
   "cell_type": "code",
   "execution_count": 9,
   "metadata": {},
   "outputs": [],
   "source": [
    "food_rate_df[USER] = food_rate_df[USER].astype('str')\n",
    "food_rate_df[PRODUCT] = food_rate_df[PRODUCT].astype('str')"
   ]
  },
  {
   "cell_type": "code",
   "execution_count": 10,
   "metadata": {},
   "outputs": [
    {
     "name": "stdout",
     "output_type": "stream",
     "text": [
      "<class 'pandas.core.frame.DataFrame'>\n",
      "RangeIndex: 14408 entries, 0 to 14407\n",
      "Data columns (total 5 columns):\n",
      "userId          14408 non-null object\n",
      "productId       14408 non-null object\n",
      "ratings         14408 non-null int64\n",
      "Product_Name    14408 non-null object\n",
      "Price           14408 non-null int64\n",
      "dtypes: int64(2), object(3)\n",
      "memory usage: 562.9+ KB\n"
     ]
    }
   ],
   "source": [
    "food_rate_df.info()"
   ]
  },
  {
   "cell_type": "code",
   "execution_count": 11,
   "metadata": {},
   "outputs": [],
   "source": [
    "# Split the dataset\n",
    "train_valid_df, test_df = python_stratified_split(\n",
    "    food_rate_df, \n",
    "    ratio=0.75, \n",
    "    min_rating=1, \n",
    "    filter_by=\"user\", \n",
    "    col_user=USER, \n",
    "    col_item=PRODUCT\n",
    ")"
   ]
  },
  {
   "cell_type": "code",
   "execution_count": 12,
   "metadata": {},
   "outputs": [
    {
     "data": {
      "text/plain": [
       "999"
      ]
     },
     "execution_count": 12,
     "metadata": {},
     "output_type": "execute_result"
    }
   ],
   "source": [
    "len(train_valid_df.userId.unique())"
   ]
  },
  {
   "cell_type": "markdown",
   "metadata": {},
   "source": [
    "## Training"
   ]
  },
  {
   "cell_type": "code",
   "execution_count": 13,
   "metadata": {},
   "outputs": [],
   "source": [
    "# fix random seeds to make sure our runs are reproducible\n",
    "np.random.seed(101)\n",
    "torch.manual_seed(101)\n",
    "torch.cuda.manual_seed_all(101)"
   ]
  },
  {
   "cell_type": "code",
   "execution_count": 14,
   "metadata": {},
   "outputs": [],
   "source": [
    "start_time = time.time()\n",
    "\n",
    "data = CollabDataBunch.from_df(train_valid_df, user_name=USER, item_name=PRODUCT, rating_name=RATING, valid_pct=0)\n",
    "\n",
    "preprocess_time = time.time() - start_time"
   ]
  },
  {
   "cell_type": "code",
   "execution_count": 15,
   "metadata": {},
   "outputs": [
    {
     "data": {
      "text/html": [
       "<table border=\"1\" class=\"dataframe\">\n",
       "  <thead>\n",
       "    <tr style=\"text-align: right;\">\n",
       "      <th>userId</th>\n",
       "      <th>productId</th>\n",
       "      <th>target</th>\n",
       "    </tr>\n",
       "  </thead>\n",
       "  <tbody>\n",
       "    <tr>\n",
       "      <td>923</td>\n",
       "      <td>105</td>\n",
       "      <td>5.0</td>\n",
       "    </tr>\n",
       "    <tr>\n",
       "      <td>387</td>\n",
       "      <td>125</td>\n",
       "      <td>5.0</td>\n",
       "    </tr>\n",
       "    <tr>\n",
       "      <td>922</td>\n",
       "      <td>107</td>\n",
       "      <td>5.0</td>\n",
       "    </tr>\n",
       "    <tr>\n",
       "      <td>156</td>\n",
       "      <td>117</td>\n",
       "      <td>4.0</td>\n",
       "    </tr>\n",
       "    <tr>\n",
       "      <td>758</td>\n",
       "      <td>129</td>\n",
       "      <td>5.0</td>\n",
       "    </tr>\n",
       "  </tbody>\n",
       "</table>"
      ],
      "text/plain": [
       "<IPython.core.display.HTML object>"
      ]
     },
     "metadata": {},
     "output_type": "display_data"
    }
   ],
   "source": [
    "data.show_batch()"
   ]
  },
  {
   "cell_type": "markdown",
   "metadata": {},
   "source": [
    "Now we will create a `collab_learner` for the data, which by default uses the [EmbeddingDotBias](https://docs.fast.ai/collab.html#EmbeddingDotBias) model. We will be using 40 latent factors. This will create an embedding for the users and the items that will map each of these to 40 floats as can be seen below. Note that the embedding parameters are not predefined, but are learned by the model.\n",
    "\n",
    "Although ratings can only range from 1-5, we are setting the range of possible ratings to a range from 0 to 5.5 -- that will allow the model to predict values around 1 and 5, which improves accuracy. Lastly, we set a value for weight-decay for regularization."
   ]
  },
  {
   "cell_type": "code",
   "execution_count": 16,
   "metadata": {},
   "outputs": [
    {
     "data": {
      "text/plain": [
       "EmbeddingDotBias(\n",
       "  (u_weight): Embedding(1000, 40)\n",
       "  (i_weight): Embedding(31, 40)\n",
       "  (u_bias): Embedding(1000, 1)\n",
       "  (i_bias): Embedding(31, 1)\n",
       ")"
      ]
     },
     "execution_count": 16,
     "metadata": {},
     "output_type": "execute_result"
    }
   ],
   "source": [
    "learn = collab_learner(data, n_factors=N_FACTORS, y_range=[0,5.5], wd=1e-1)\n",
    "learn.model"
   ]
  },
  {
   "cell_type": "markdown",
   "metadata": {},
   "source": [
    "Now train the model for 5 epochs setting the maximal learning rate. The learner will reduce the learning rate with each epoch using cosine annealing."
   ]
  },
  {
   "cell_type": "code",
   "execution_count": 17,
   "metadata": {},
   "outputs": [
    {
     "data": {
      "text/html": [
       "<table border=\"1\" class=\"dataframe\">\n",
       "  <thead>\n",
       "    <tr style=\"text-align: left;\">\n",
       "      <th>epoch</th>\n",
       "      <th>train_loss</th>\n",
       "      <th>valid_loss</th>\n",
       "      <th>time</th>\n",
       "    </tr>\n",
       "  </thead>\n",
       "  <tbody>\n",
       "    <tr>\n",
       "      <td>0</td>\n",
       "      <td>2.016103</td>\n",
       "      <td>#na#</td>\n",
       "      <td>00:00</td>\n",
       "    </tr>\n",
       "    <tr>\n",
       "      <td>1</td>\n",
       "      <td>1.923706</td>\n",
       "      <td>#na#</td>\n",
       "      <td>00:00</td>\n",
       "    </tr>\n",
       "    <tr>\n",
       "      <td>2</td>\n",
       "      <td>1.410669</td>\n",
       "      <td>#na#</td>\n",
       "      <td>00:00</td>\n",
       "    </tr>\n",
       "    <tr>\n",
       "      <td>3</td>\n",
       "      <td>0.972270</td>\n",
       "      <td>#na#</td>\n",
       "      <td>00:00</td>\n",
       "    </tr>\n",
       "    <tr>\n",
       "      <td>4</td>\n",
       "      <td>0.794585</td>\n",
       "      <td>#na#</td>\n",
       "      <td>00:00</td>\n",
       "    </tr>\n",
       "  </tbody>\n",
       "</table>"
      ],
      "text/plain": [
       "<IPython.core.display.HTML object>"
      ]
     },
     "metadata": {},
     "output_type": "display_data"
    },
    {
     "name": "stdout",
     "output_type": "stream",
     "text": [
      "Took 2.814328193664551 seconds for training.\n"
     ]
    }
   ],
   "source": [
    "start_time = time.time()\n",
    "\n",
    "learn.fit_one_cycle(EPOCHS, max_lr=5e-3)\n",
    "\n",
    "train_time = time.time() - start_time + preprocess_time\n",
    "print(\"Took {} seconds for training.\".format(train_time))"
   ]
  },
  {
   "cell_type": "markdown",
   "metadata": {},
   "source": [
    "Save the learner so it can be loaded back later for inferencing / generating recommendations"
   ]
  },
  {
   "cell_type": "code",
   "execution_count": 18,
   "metadata": {},
   "outputs": [
    {
     "data": {
      "text/plain": [
       "\u001b[0;31mSignature:\u001b[0m\n",
       "\u001b[0mlearn\u001b[0m\u001b[0;34m.\u001b[0m\u001b[0mexport\u001b[0m\u001b[0;34m(\u001b[0m\u001b[0;34m\u001b[0m\n",
       "\u001b[0;34m\u001b[0m    \u001b[0mfile\u001b[0m\u001b[0;34m:\u001b[0m\u001b[0mUnion\u001b[0m\u001b[0;34m[\u001b[0m\u001b[0mpathlib\u001b[0m\u001b[0;34m.\u001b[0m\u001b[0mPath\u001b[0m\u001b[0;34m,\u001b[0m \u001b[0mstr\u001b[0m\u001b[0;34m,\u001b[0m \u001b[0m_io\u001b[0m\u001b[0;34m.\u001b[0m\u001b[0mBufferedWriter\u001b[0m\u001b[0;34m,\u001b[0m \u001b[0m_io\u001b[0m\u001b[0;34m.\u001b[0m\u001b[0mBytesIO\u001b[0m\u001b[0;34m]\u001b[0m\u001b[0;34m=\u001b[0m\u001b[0;34m'export.pkl'\u001b[0m\u001b[0;34m,\u001b[0m\u001b[0;34m\u001b[0m\n",
       "\u001b[0;34m\u001b[0m    \u001b[0mdestroy\u001b[0m\u001b[0;34m=\u001b[0m\u001b[0;32mFalse\u001b[0m\u001b[0;34m,\u001b[0m\u001b[0;34m\u001b[0m\n",
       "\u001b[0;34m\u001b[0m\u001b[0;34m)\u001b[0m\u001b[0;34m\u001b[0m\u001b[0;34m\u001b[0m\u001b[0m\n",
       "\u001b[0;31mDocstring:\u001b[0m Export the state of the `Learner` in `self.path/file`. `file` can be file-like (file or buffer)\n",
       "\u001b[0;31mFile:\u001b[0m      ~/opt/anaconda3/envs/reco_base/lib/python3.6/site-packages/fastai/basic_train.py\n",
       "\u001b[0;31mType:\u001b[0m      method\n"
      ]
     },
     "metadata": {},
     "output_type": "display_data"
    }
   ],
   "source": [
    "learn.export('foodpredict_model.pkl')\n",
    "?learn.export"
   ]
  },
  {
   "cell_type": "markdown",
   "metadata": {},
   "source": [
    "## Generating Recommendations\n",
    "\n",
    "Load the learner from disk. #To be perform\n"
   ]
  },
  {
   "cell_type": "code",
   "execution_count": 19,
   "metadata": {},
   "outputs": [],
   "source": [
    "learner = load_learner(path=\".\", file = 'foodpredict_model.pkl')\n"
   ]
  },
  {
   "cell_type": "code",
   "execution_count": 20,
   "metadata": {},
   "outputs": [
    {
     "data": {
      "text/plain": [
       "\u001b[0;31mSignature:\u001b[0m\n",
       "\u001b[0mload_learner\u001b[0m\u001b[0;34m(\u001b[0m\u001b[0;34m\u001b[0m\n",
       "\u001b[0;34m\u001b[0m    \u001b[0mpath\u001b[0m\u001b[0;34m:\u001b[0m\u001b[0mUnion\u001b[0m\u001b[0;34m[\u001b[0m\u001b[0mpathlib\u001b[0m\u001b[0;34m.\u001b[0m\u001b[0mPath\u001b[0m\u001b[0;34m,\u001b[0m \u001b[0mstr\u001b[0m\u001b[0;34m]\u001b[0m\u001b[0;34m,\u001b[0m\u001b[0;34m\u001b[0m\n",
       "\u001b[0;34m\u001b[0m    \u001b[0mfile\u001b[0m\u001b[0;34m:\u001b[0m\u001b[0mUnion\u001b[0m\u001b[0;34m[\u001b[0m\u001b[0mpathlib\u001b[0m\u001b[0;34m.\u001b[0m\u001b[0mPath\u001b[0m\u001b[0;34m,\u001b[0m \u001b[0mstr\u001b[0m\u001b[0;34m,\u001b[0m \u001b[0m_io\u001b[0m\u001b[0;34m.\u001b[0m\u001b[0mBufferedWriter\u001b[0m\u001b[0;34m,\u001b[0m \u001b[0m_io\u001b[0m\u001b[0;34m.\u001b[0m\u001b[0mBytesIO\u001b[0m\u001b[0;34m]\u001b[0m\u001b[0;34m=\u001b[0m\u001b[0;34m'export.pkl'\u001b[0m\u001b[0;34m,\u001b[0m\u001b[0;34m\u001b[0m\n",
       "\u001b[0;34m\u001b[0m    \u001b[0mtest\u001b[0m\u001b[0;34m:\u001b[0m\u001b[0mfastai\u001b[0m\u001b[0;34m.\u001b[0m\u001b[0mdata_block\u001b[0m\u001b[0;34m.\u001b[0m\u001b[0mItemList\u001b[0m\u001b[0;34m=\u001b[0m\u001b[0;32mNone\u001b[0m\u001b[0;34m,\u001b[0m\u001b[0;34m\u001b[0m\n",
       "\u001b[0;34m\u001b[0m    \u001b[0mtfm_y\u001b[0m\u001b[0;34m=\u001b[0m\u001b[0;32mNone\u001b[0m\u001b[0;34m,\u001b[0m\u001b[0;34m\u001b[0m\n",
       "\u001b[0;34m\u001b[0m    \u001b[0;34m**\u001b[0m\u001b[0mdb_kwargs\u001b[0m\u001b[0;34m,\u001b[0m\u001b[0;34m\u001b[0m\n",
       "\u001b[0;34m\u001b[0m\u001b[0;34m)\u001b[0m\u001b[0;34m\u001b[0m\u001b[0;34m\u001b[0m\u001b[0m\n",
       "\u001b[0;31mDocstring:\u001b[0m Load a `Learner` object saved with `export_state` in `path/file` with empty data, optionally add `test` and load on `cpu`. `file` can be file-like (file or buffer)\n",
       "\u001b[0;31mFile:\u001b[0m      ~/opt/anaconda3/envs/reco_base/lib/python3.6/site-packages/fastai/basic_train.py\n",
       "\u001b[0;31mType:\u001b[0m      function\n"
      ]
     },
     "metadata": {},
     "output_type": "display_data"
    }
   ],
   "source": [
    "?load_learner"
   ]
  },
  {
   "cell_type": "markdown",
   "metadata": {},
   "source": [
    "Get all users and items that the model knows"
   ]
  },
  {
   "cell_type": "code",
   "execution_count": 21,
   "metadata": {},
   "outputs": [],
   "source": [
    "total_users, total_items = learner.data.train_ds.x.classes.values()\n",
    "total_items = total_items[1:]\n",
    "total_users = total_users[1:]"
   ]
  },
  {
   "cell_type": "markdown",
   "metadata": {},
   "source": [
    "Get all users from the test set and remove any users that were know in the training set"
   ]
  },
  {
   "cell_type": "code",
   "execution_count": 22,
   "metadata": {},
   "outputs": [],
   "source": [
    "test_users = test_df[USER].unique()\n",
    "test_users = np.intersect1d(test_users, total_users)"
   ]
  },
  {
   "cell_type": "markdown",
   "metadata": {},
   "source": [
    "Build the cartesian product of test set users and all items known to the model"
   ]
  },
  {
   "cell_type": "code",
   "execution_count": 23,
   "metadata": {},
   "outputs": [],
   "source": [
    "users_items = cartesian_product(np.array(test_users),np.array(total_items))\n",
    "users_items = pd.DataFrame(users_items, columns=[USER,PRODUCT])"
   ]
  },
  {
   "cell_type": "markdown",
   "metadata": {},
   "source": [
    "\n",
    "Lastly, remove the user/items combinations that are in the training set -- we don't want to propose a movie that the user has already watched."
   ]
  },
  {
   "cell_type": "code",
   "execution_count": 24,
   "metadata": {},
   "outputs": [],
   "source": [
    "training_removed = pd.merge(users_items, train_valid_df.astype(str), on=[USER, PRODUCT], how='left')\n",
    "training_removed = training_removed[training_removed[RATING].isna()][[USER, PRODUCT]]"
   ]
  },
  {
   "cell_type": "markdown",
   "metadata": {},
   "source": [
    "### Score the model to find the top K recommendation"
   ]
  },
  {
   "cell_type": "code",
   "execution_count": 25,
   "metadata": {},
   "outputs": [
    {
     "name": "stdout",
     "output_type": "stream",
     "text": [
      "Took 0.032716989517211914 seconds for 18907 predictions.\n"
     ]
    }
   ],
   "source": [
    "start_time = time.time()\n",
    "\n",
    "top_k_scores = score(learner, \n",
    "                     test_df=training_removed,\n",
    "                     user_col=USER, \n",
    "                     item_col=PRODUCT, \n",
    "                     prediction_col=PREDICTION)\n",
    "\n",
    "test_time = time.time() - start_time\n",
    "print(\"Took {} seconds for {} predictions.\".format(test_time, len(training_removed)))"
   ]
  },
  {
   "cell_type": "code",
   "execution_count": 26,
   "metadata": {},
   "outputs": [
    {
     "data": {
      "text/html": [
       "<div>\n",
       "<style scoped>\n",
       "    .dataframe tbody tr th:only-of-type {\n",
       "        vertical-align: middle;\n",
       "    }\n",
       "\n",
       "    .dataframe tbody tr th {\n",
       "        vertical-align: top;\n",
       "    }\n",
       "\n",
       "    .dataframe thead th {\n",
       "        text-align: right;\n",
       "    }\n",
       "</style>\n",
       "<table border=\"1\" class=\"dataframe\">\n",
       "  <thead>\n",
       "    <tr style=\"text-align: right;\">\n",
       "      <th></th>\n",
       "      <th>userId</th>\n",
       "      <th>productId</th>\n",
       "      <th>Prediction</th>\n",
       "    </tr>\n",
       "  </thead>\n",
       "  <tbody>\n",
       "    <tr>\n",
       "      <th>16</th>\n",
       "      <td>0</td>\n",
       "      <td>115</td>\n",
       "      <td>3.821809</td>\n",
       "    </tr>\n",
       "    <tr>\n",
       "      <th>4</th>\n",
       "      <td>0</td>\n",
       "      <td>104</td>\n",
       "      <td>3.720030</td>\n",
       "    </tr>\n",
       "    <tr>\n",
       "      <th>22</th>\n",
       "      <td>0</td>\n",
       "      <td>121</td>\n",
       "      <td>3.622766</td>\n",
       "    </tr>\n",
       "    <tr>\n",
       "      <th>19</th>\n",
       "      <td>0</td>\n",
       "      <td>118</td>\n",
       "      <td>3.579362</td>\n",
       "    </tr>\n",
       "    <tr>\n",
       "      <th>28</th>\n",
       "      <td>0</td>\n",
       "      <td>127</td>\n",
       "      <td>3.565753</td>\n",
       "    </tr>\n",
       "    <tr>\n",
       "      <th>...</th>\n",
       "      <td>...</td>\n",
       "      <td>...</td>\n",
       "      <td>...</td>\n",
       "    </tr>\n",
       "    <tr>\n",
       "      <th>29612</th>\n",
       "      <td>999</td>\n",
       "      <td>125</td>\n",
       "      <td>2.805949</td>\n",
       "    </tr>\n",
       "    <tr>\n",
       "      <th>29611</th>\n",
       "      <td>999</td>\n",
       "      <td>124</td>\n",
       "      <td>2.680897</td>\n",
       "    </tr>\n",
       "    <tr>\n",
       "      <th>29603</th>\n",
       "      <td>999</td>\n",
       "      <td>116</td>\n",
       "      <td>2.672957</td>\n",
       "    </tr>\n",
       "    <tr>\n",
       "      <th>29615</th>\n",
       "      <td>999</td>\n",
       "      <td>128</td>\n",
       "      <td>2.651947</td>\n",
       "    </tr>\n",
       "    <tr>\n",
       "      <th>29605</th>\n",
       "      <td>999</td>\n",
       "      <td>118</td>\n",
       "      <td>2.261295</td>\n",
       "    </tr>\n",
       "  </tbody>\n",
       "</table>\n",
       "<p>18907 rows × 3 columns</p>\n",
       "</div>"
      ],
      "text/plain": [
       "      userId productId  Prediction\n",
       "16         0       115    3.821809\n",
       "4          0       104    3.720030\n",
       "22         0       121    3.622766\n",
       "19         0       118    3.579362\n",
       "28         0       127    3.565753\n",
       "...      ...       ...         ...\n",
       "29612    999       125    2.805949\n",
       "29611    999       124    2.680897\n",
       "29603    999       116    2.672957\n",
       "29615    999       128    2.651947\n",
       "29605    999       118    2.261295\n",
       "\n",
       "[18907 rows x 3 columns]"
      ]
     },
     "execution_count": 26,
     "metadata": {},
     "output_type": "execute_result"
    }
   ],
   "source": [
    "top_k_scores"
   ]
  },
  {
   "cell_type": "code",
   "execution_count": 27,
   "metadata": {},
   "outputs": [
    {
     "data": {
      "text/html": [
       "<div>\n",
       "<style scoped>\n",
       "    .dataframe tbody tr th:only-of-type {\n",
       "        vertical-align: middle;\n",
       "    }\n",
       "\n",
       "    .dataframe tbody tr th {\n",
       "        vertical-align: top;\n",
       "    }\n",
       "\n",
       "    .dataframe thead th {\n",
       "        text-align: right;\n",
       "    }\n",
       "</style>\n",
       "<table border=\"1\" class=\"dataframe\">\n",
       "  <thead>\n",
       "    <tr style=\"text-align: right;\">\n",
       "      <th></th>\n",
       "      <th>userId</th>\n",
       "      <th>productId</th>\n",
       "      <th>Prediction</th>\n",
       "    </tr>\n",
       "  </thead>\n",
       "  <tbody>\n",
       "    <tr>\n",
       "      <th>328</th>\n",
       "      <td>11</td>\n",
       "      <td>110</td>\n",
       "      <td>4.094585</td>\n",
       "    </tr>\n",
       "    <tr>\n",
       "      <th>331</th>\n",
       "      <td>11</td>\n",
       "      <td>113</td>\n",
       "      <td>3.791654</td>\n",
       "    </tr>\n",
       "    <tr>\n",
       "      <th>342</th>\n",
       "      <td>11</td>\n",
       "      <td>122</td>\n",
       "      <td>3.520812</td>\n",
       "    </tr>\n",
       "    <tr>\n",
       "      <th>334</th>\n",
       "      <td>11</td>\n",
       "      <td>116</td>\n",
       "      <td>3.312456</td>\n",
       "    </tr>\n",
       "    <tr>\n",
       "      <th>318</th>\n",
       "      <td>11</td>\n",
       "      <td>100</td>\n",
       "      <td>3.280399</td>\n",
       "    </tr>\n",
       "    <tr>\n",
       "      <th>323</th>\n",
       "      <td>11</td>\n",
       "      <td>105</td>\n",
       "      <td>3.133853</td>\n",
       "    </tr>\n",
       "    <tr>\n",
       "      <th>321</th>\n",
       "      <td>11</td>\n",
       "      <td>103</td>\n",
       "      <td>3.055280</td>\n",
       "    </tr>\n",
       "    <tr>\n",
       "      <th>332</th>\n",
       "      <td>11</td>\n",
       "      <td>114</td>\n",
       "      <td>3.005888</td>\n",
       "    </tr>\n",
       "    <tr>\n",
       "      <th>319</th>\n",
       "      <td>11</td>\n",
       "      <td>101</td>\n",
       "      <td>3.000746</td>\n",
       "    </tr>\n",
       "    <tr>\n",
       "      <th>324</th>\n",
       "      <td>11</td>\n",
       "      <td>106</td>\n",
       "      <td>2.954243</td>\n",
       "    </tr>\n",
       "    <tr>\n",
       "      <th>349</th>\n",
       "      <td>11</td>\n",
       "      <td>128</td>\n",
       "      <td>2.706671</td>\n",
       "    </tr>\n",
       "    <tr>\n",
       "      <th>344</th>\n",
       "      <td>11</td>\n",
       "      <td>124</td>\n",
       "      <td>2.648097</td>\n",
       "    </tr>\n",
       "    <tr>\n",
       "      <th>343</th>\n",
       "      <td>11</td>\n",
       "      <td>123</td>\n",
       "      <td>2.588336</td>\n",
       "    </tr>\n",
       "    <tr>\n",
       "      <th>350</th>\n",
       "      <td>11</td>\n",
       "      <td>129</td>\n",
       "      <td>2.301647</td>\n",
       "    </tr>\n",
       "    <tr>\n",
       "      <th>330</th>\n",
       "      <td>11</td>\n",
       "      <td>112</td>\n",
       "      <td>2.295932</td>\n",
       "    </tr>\n",
       "    <tr>\n",
       "      <th>322</th>\n",
       "      <td>11</td>\n",
       "      <td>104</td>\n",
       "      <td>2.274082</td>\n",
       "    </tr>\n",
       "    <tr>\n",
       "      <th>320</th>\n",
       "      <td>11</td>\n",
       "      <td>102</td>\n",
       "      <td>1.736097</td>\n",
       "    </tr>\n",
       "  </tbody>\n",
       "</table>\n",
       "</div>"
      ],
      "text/plain": [
       "    userId productId  Prediction\n",
       "328     11       110    4.094585\n",
       "331     11       113    3.791654\n",
       "342     11       122    3.520812\n",
       "334     11       116    3.312456\n",
       "318     11       100    3.280399\n",
       "323     11       105    3.133853\n",
       "321     11       103    3.055280\n",
       "332     11       114    3.005888\n",
       "319     11       101    3.000746\n",
       "324     11       106    2.954243\n",
       "349     11       128    2.706671\n",
       "344     11       124    2.648097\n",
       "343     11       123    2.588336\n",
       "350     11       129    2.301647\n",
       "330     11       112    2.295932\n",
       "322     11       104    2.274082\n",
       "320     11       102    1.736097"
      ]
     },
     "execution_count": 27,
     "metadata": {},
     "output_type": "execute_result"
    }
   ],
   "source": [
    "top_k_scores[top_k_scores['userId'] == '11']"
   ]
  },
  {
   "cell_type": "code",
   "execution_count": 28,
   "metadata": {},
   "outputs": [],
   "source": [
    "# import pickle\n",
    "# pickle.dump(top_k_scores, open(\"top_k_scores.pkl\", 'wb'))\n"
   ]
  },
  {
   "cell_type": "markdown",
   "metadata": {},
   "source": [
    "Calculate some metrics for our model"
   ]
  },
  {
   "cell_type": "code",
   "execution_count": 31,
   "metadata": {},
   "outputs": [],
   "source": [
    "TOP_K = 5"
   ]
  },
  {
   "cell_type": "code",
   "execution_count": 32,
   "metadata": {},
   "outputs": [],
   "source": [
    "eval_map = map_at_k(test_df, top_k_scores, col_user=USER, col_item=PRODUCT, \n",
    "                    col_rating=RATING, col_prediction=PREDICTION, \n",
    "                    relevancy_method=\"top_k\", k=TOP_K)"
   ]
  },
  {
   "cell_type": "code",
   "execution_count": 33,
   "metadata": {},
   "outputs": [],
   "source": [
    "eval_ndcg = ndcg_at_k(test_df, top_k_scores, col_user=USER, col_item=PRODUCT, \n",
    "                      col_rating=RATING, col_prediction=PREDICTION, \n",
    "                      relevancy_method=\"top_k\", k=TOP_K)"
   ]
  },
  {
   "cell_type": "code",
   "execution_count": 34,
   "metadata": {},
   "outputs": [],
   "source": [
    "eval_precision = precision_at_k(test_df, top_k_scores, col_user=USER, col_item=PRODUCT, \n",
    "                                col_rating=RATING, col_prediction=PREDICTION, \n",
    "                                relevancy_method=\"top_k\", k=TOP_K)"
   ]
  },
  {
   "cell_type": "code",
   "execution_count": 35,
   "metadata": {},
   "outputs": [],
   "source": [
    "eval_recall = recall_at_k(test_df, top_k_scores, col_user=USER, col_item=PRODUCT, \n",
    "                          col_rating=RATING, col_prediction=PREDICTION, \n",
    "                          relevancy_method=\"top_k\", k=TOP_K)"
   ]
  },
  {
   "cell_type": "code",
   "execution_count": 36,
   "metadata": {},
   "outputs": [
    {
     "name": "stdout",
     "output_type": "stream",
     "text": [
      "Model:\tCollabLearner\n",
      "Top K:\t5\n",
      "MAP:\t0.084168\n",
      "NDCG:\t0.149695\n",
      "Precision@K:\t0.127451\n",
      "Recall@K:\t0.158781\n"
     ]
    }
   ],
   "source": [
    "print(\"Model:\\t\" + learner.__class__.__name__,\n",
    "      \"Top K:\\t%d\" % TOP_K,\n",
    "      \"MAP:\\t%f\" % eval_map,\n",
    "      \"NDCG:\\t%f\" % eval_ndcg,\n",
    "      \"Precision@K:\\t%f\" % eval_precision,\n",
    "      \"Recall@K:\\t%f\" % eval_recall, sep='\\n')"
   ]
  },
  {
   "cell_type": "markdown",
   "metadata": {},
   "source": [
    "The above numbers are lower than [SAR](../sar_single_node_movielens.ipynb), but expected, since the model is explicitly trying to generalize the users and items to the latent factors. Next look at how well the model predicts how the user would rate the movie. Need to score `test_df` user-items only. "
   ]
  },
  {
   "cell_type": "code",
   "execution_count": 37,
   "metadata": {},
   "outputs": [],
   "source": [
    "scores = score(learner, \n",
    "               test_df=test_df.copy(), \n",
    "               user_col=USER, \n",
    "               item_col=PRODUCT, \n",
    "               prediction_col=PREDICTION)"
   ]
  },
  {
   "cell_type": "markdown",
   "metadata": {},
   "source": [
    "Now calculate some regression metrics"
   ]
  },
  {
   "cell_type": "code",
   "execution_count": 38,
   "metadata": {},
   "outputs": [
    {
     "name": "stdout",
     "output_type": "stream",
     "text": [
      "Model:\tCollabLearner\n",
      "RMSE:\t1.535012\n",
      "MAE:\t1.304221\n",
      "Explained variance:\t-0.197608\n",
      "R squared:\t-0.198228\n"
     ]
    }
   ],
   "source": [
    "eval_r2 = rsquared(test_df, scores, col_user=USER, col_item=PRODUCT, col_rating=RATING, col_prediction=PREDICTION)\n",
    "eval_rmse = rmse(test_df, scores, col_user=USER, col_item=PRODUCT, col_rating=RATING, col_prediction=PREDICTION)\n",
    "eval_mae = mae(test_df, scores, col_user=USER, col_item=PRODUCT, col_rating=RATING, col_prediction=PREDICTION)\n",
    "eval_exp_var = exp_var(test_df, scores, col_user=USER, col_item=PRODUCT, col_rating=RATING, col_prediction=PREDICTION)\n",
    "\n",
    "print(\"Model:\\t\" + learner.__class__.__name__,\n",
    "      \"RMSE:\\t%f\" % eval_rmse,\n",
    "      \"MAE:\\t%f\" % eval_mae,\n",
    "      \"Explained variance:\\t%f\" % eval_exp_var,\n",
    "      \"R squared:\\t%f\" % eval_r2, sep='\\n')"
   ]
  },
  {
   "cell_type": "markdown",
   "metadata": {},
   "source": [
    "That RMSE is actually quite good when compared to these benchmarks: https://www.librec.net/release/v1.3/example.html"
   ]
  },
  {
   "cell_type": "code",
   "execution_count": 39,
   "metadata": {},
   "outputs": [
    {
     "data": {
      "application/papermill.record+json": {
       "map": 0.08416781218660306
      }
     },
     "metadata": {},
     "output_type": "display_data"
    },
    {
     "data": {
      "application/papermill.record+json": {
       "ndcg": 0.14969464399365584
      }
     },
     "metadata": {},
     "output_type": "display_data"
    },
    {
     "data": {
      "application/papermill.record+json": {
       "precision": 0.12745098039215688
      }
     },
     "metadata": {},
     "output_type": "display_data"
    },
    {
     "data": {
      "application/papermill.record+json": {
       "recall": 0.15878073451602864
      }
     },
     "metadata": {},
     "output_type": "display_data"
    },
    {
     "data": {
      "application/papermill.record+json": {
       "rmse": 1.5350123095642438
      }
     },
     "metadata": {},
     "output_type": "display_data"
    },
    {
     "data": {
      "application/papermill.record+json": {
       "mae": 1.3042207857192956
      }
     },
     "metadata": {},
     "output_type": "display_data"
    },
    {
     "data": {
      "application/papermill.record+json": {
       "exp_var": -0.1976075313141621
      }
     },
     "metadata": {},
     "output_type": "display_data"
    },
    {
     "data": {
      "application/papermill.record+json": {
       "rsquared": -0.1982279068057058
      }
     },
     "metadata": {},
     "output_type": "display_data"
    },
    {
     "data": {
      "application/papermill.record+json": {
       "train_time": 2.814328193664551
      }
     },
     "metadata": {},
     "output_type": "display_data"
    },
    {
     "data": {
      "application/papermill.record+json": {
       "test_time": 0.032716989517211914
      }
     },
     "metadata": {},
     "output_type": "display_data"
    }
   ],
   "source": [
    "# Record results with papermill for tests\n",
    "pm.record(\"map\", eval_map)\n",
    "pm.record(\"ndcg\", eval_ndcg)\n",
    "pm.record(\"precision\", eval_precision)\n",
    "pm.record(\"recall\", eval_recall)\n",
    "pm.record(\"rmse\", eval_rmse)\n",
    "pm.record(\"mae\", eval_mae)\n",
    "pm.record(\"exp_var\", eval_exp_var)\n",
    "pm.record(\"rsquared\", eval_r2)\n",
    "pm.record(\"train_time\", train_time)\n",
    "pm.record(\"test_time\", test_time)\n"
   ]
  },
  {
   "cell_type": "markdown",
   "metadata": {},
   "source": [
    "# Getting Predicted rating for all products for all users"
   ]
  },
  {
   "cell_type": "code",
   "execution_count": 40,
   "metadata": {},
   "outputs": [],
   "source": [
    "#training_removed['userId'].unique()"
   ]
  },
  {
   "cell_type": "code",
   "execution_count": 41,
   "metadata": {},
   "outputs": [],
   "source": [
    "food_df = pd.read_csv(\"FoodDetails.csv\")"
   ]
  },
  {
   "cell_type": "code",
   "execution_count": 42,
   "metadata": {},
   "outputs": [
    {
     "data": {
      "text/html": [
       "<div>\n",
       "<style scoped>\n",
       "    .dataframe tbody tr th:only-of-type {\n",
       "        vertical-align: middle;\n",
       "    }\n",
       "\n",
       "    .dataframe tbody tr th {\n",
       "        vertical-align: top;\n",
       "    }\n",
       "\n",
       "    .dataframe thead th {\n",
       "        text-align: right;\n",
       "    }\n",
       "</style>\n",
       "<table border=\"1\" class=\"dataframe\">\n",
       "  <thead>\n",
       "    <tr style=\"text-align: right;\">\n",
       "      <th></th>\n",
       "      <th>productId</th>\n",
       "      <th>Product Name</th>\n",
       "      <th>Price</th>\n",
       "    </tr>\n",
       "  </thead>\n",
       "  <tbody>\n",
       "    <tr>\n",
       "      <th>0</th>\n",
       "      <td>116</td>\n",
       "      <td>Salad</td>\n",
       "      <td>6</td>\n",
       "    </tr>\n",
       "    <tr>\n",
       "      <th>1</th>\n",
       "      <td>121</td>\n",
       "      <td>Milk</td>\n",
       "      <td>9</td>\n",
       "    </tr>\n",
       "    <tr>\n",
       "      <th>2</th>\n",
       "      <td>126</td>\n",
       "      <td>Tuna</td>\n",
       "      <td>5</td>\n",
       "    </tr>\n",
       "    <tr>\n",
       "      <th>3</th>\n",
       "      <td>109</td>\n",
       "      <td>Cupcake</td>\n",
       "      <td>9</td>\n",
       "    </tr>\n",
       "    <tr>\n",
       "      <th>4</th>\n",
       "      <td>124</td>\n",
       "      <td>Carrots</td>\n",
       "      <td>10</td>\n",
       "    </tr>\n",
       "    <tr>\n",
       "      <th>5</th>\n",
       "      <td>105</td>\n",
       "      <td>Meat</td>\n",
       "      <td>15</td>\n",
       "    </tr>\n",
       "    <tr>\n",
       "      <th>6</th>\n",
       "      <td>110</td>\n",
       "      <td>Curly Kale</td>\n",
       "      <td>5</td>\n",
       "    </tr>\n",
       "    <tr>\n",
       "      <th>7</th>\n",
       "      <td>111</td>\n",
       "      <td>Cereals</td>\n",
       "      <td>5</td>\n",
       "    </tr>\n",
       "    <tr>\n",
       "      <th>8</th>\n",
       "      <td>101</td>\n",
       "      <td>Bread</td>\n",
       "      <td>11</td>\n",
       "    </tr>\n",
       "    <tr>\n",
       "      <th>9</th>\n",
       "      <td>100</td>\n",
       "      <td>Juice</td>\n",
       "      <td>6</td>\n",
       "    </tr>\n",
       "    <tr>\n",
       "      <th>10</th>\n",
       "      <td>107</td>\n",
       "      <td>Banana</td>\n",
       "      <td>15</td>\n",
       "    </tr>\n",
       "    <tr>\n",
       "      <th>11</th>\n",
       "      <td>103</td>\n",
       "      <td>Cheese</td>\n",
       "      <td>6</td>\n",
       "    </tr>\n",
       "    <tr>\n",
       "      <th>12</th>\n",
       "      <td>104</td>\n",
       "      <td>Cookie</td>\n",
       "      <td>5</td>\n",
       "    </tr>\n",
       "    <tr>\n",
       "      <th>13</th>\n",
       "      <td>118</td>\n",
       "      <td>Curd</td>\n",
       "      <td>13</td>\n",
       "    </tr>\n",
       "    <tr>\n",
       "      <th>14</th>\n",
       "      <td>108</td>\n",
       "      <td>Grapes</td>\n",
       "      <td>7</td>\n",
       "    </tr>\n",
       "    <tr>\n",
       "      <th>15</th>\n",
       "      <td>120</td>\n",
       "      <td>Eggs</td>\n",
       "      <td>8</td>\n",
       "    </tr>\n",
       "    <tr>\n",
       "      <th>16</th>\n",
       "      <td>129</td>\n",
       "      <td>Avocado</td>\n",
       "      <td>6</td>\n",
       "    </tr>\n",
       "    <tr>\n",
       "      <th>17</th>\n",
       "      <td>123</td>\n",
       "      <td>Chips</td>\n",
       "      <td>14</td>\n",
       "    </tr>\n",
       "    <tr>\n",
       "      <th>18</th>\n",
       "      <td>128</td>\n",
       "      <td>coconut water</td>\n",
       "      <td>15</td>\n",
       "    </tr>\n",
       "    <tr>\n",
       "      <th>19</th>\n",
       "      <td>125</td>\n",
       "      <td>Zhucchini</td>\n",
       "      <td>6</td>\n",
       "    </tr>\n",
       "    <tr>\n",
       "      <th>20</th>\n",
       "      <td>113</td>\n",
       "      <td>walnut</td>\n",
       "      <td>14</td>\n",
       "    </tr>\n",
       "    <tr>\n",
       "      <th>21</th>\n",
       "      <td>127</td>\n",
       "      <td>pizza</td>\n",
       "      <td>8</td>\n",
       "    </tr>\n",
       "    <tr>\n",
       "      <th>22</th>\n",
       "      <td>115</td>\n",
       "      <td>Cabbage</td>\n",
       "      <td>5</td>\n",
       "    </tr>\n",
       "    <tr>\n",
       "      <th>23</th>\n",
       "      <td>106</td>\n",
       "      <td>Fish</td>\n",
       "      <td>5</td>\n",
       "    </tr>\n",
       "    <tr>\n",
       "      <th>24</th>\n",
       "      <td>119</td>\n",
       "      <td>Cereals</td>\n",
       "      <td>14</td>\n",
       "    </tr>\n",
       "    <tr>\n",
       "      <th>25</th>\n",
       "      <td>102</td>\n",
       "      <td>Sphagetti</td>\n",
       "      <td>14</td>\n",
       "    </tr>\n",
       "    <tr>\n",
       "      <th>26</th>\n",
       "      <td>112</td>\n",
       "      <td>Rice</td>\n",
       "      <td>11</td>\n",
       "    </tr>\n",
       "    <tr>\n",
       "      <th>27</th>\n",
       "      <td>114</td>\n",
       "      <td>Apples</td>\n",
       "      <td>9</td>\n",
       "    </tr>\n",
       "    <tr>\n",
       "      <th>28</th>\n",
       "      <td>122</td>\n",
       "      <td>Tortilla</td>\n",
       "      <td>6</td>\n",
       "    </tr>\n",
       "    <tr>\n",
       "      <th>29</th>\n",
       "      <td>117</td>\n",
       "      <td>Frozen</td>\n",
       "      <td>8</td>\n",
       "    </tr>\n",
       "  </tbody>\n",
       "</table>\n",
       "</div>"
      ],
      "text/plain": [
       "    productId   Product Name  Price\n",
       "0         116          Salad      6\n",
       "1         121           Milk      9\n",
       "2         126           Tuna      5\n",
       "3         109        Cupcake      9\n",
       "4         124        Carrots     10\n",
       "5         105           Meat     15\n",
       "6         110     Curly Kale      5\n",
       "7         111        Cereals      5\n",
       "8         101          Bread     11\n",
       "9         100          Juice      6\n",
       "10        107         Banana     15\n",
       "11        103         Cheese      6\n",
       "12        104         Cookie      5\n",
       "13        118           Curd     13\n",
       "14        108         Grapes      7\n",
       "15        120           Eggs      8\n",
       "16        129        Avocado      6\n",
       "17        123          Chips     14\n",
       "18        128  coconut water     15\n",
       "19        125      Zhucchini      6\n",
       "20        113         walnut     14\n",
       "21        127          pizza      8\n",
       "22        115        Cabbage      5\n",
       "23        106           Fish      5\n",
       "24        119        Cereals     14\n",
       "25        102      Sphagetti     14\n",
       "26        112           Rice     11\n",
       "27        114         Apples      9\n",
       "28        122       Tortilla      6\n",
       "29        117         Frozen      8"
      ]
     },
     "execution_count": 42,
     "metadata": {},
     "output_type": "execute_result"
    }
   ],
   "source": [
    "food_df"
   ]
  },
  {
   "cell_type": "code",
   "execution_count": 43,
   "metadata": {},
   "outputs": [],
   "source": [
    "top_k_scores[\"productId\"] = top_k_scores[\"productId\"].astype('int')"
   ]
  },
  {
   "cell_type": "code",
   "execution_count": 44,
   "metadata": {},
   "outputs": [
    {
     "name": "stdout",
     "output_type": "stream",
     "text": [
      "<class 'pandas.core.frame.DataFrame'>\n",
      "Int64Index: 18907 entries, 16 to 29605\n",
      "Data columns (total 3 columns):\n",
      "userId        18907 non-null object\n",
      "productId     18907 non-null int64\n",
      "Prediction    18907 non-null float32\n",
      "dtypes: float32(1), int64(1), object(1)\n",
      "memory usage: 517.0+ KB\n"
     ]
    }
   ],
   "source": [
    "top_k_scores.info()"
   ]
  },
  {
   "cell_type": "code",
   "execution_count": 45,
   "metadata": {},
   "outputs": [],
   "source": [
    "import pandas as pd"
   ]
  },
  {
   "cell_type": "code",
   "execution_count": 46,
   "metadata": {},
   "outputs": [],
   "source": [
    "img = ['https://adm-food-probability.s3.amazonaws.com/salad.jpg',\n",
    "      'https://adm-food-probability.s3.amazonaws.com/milk.jpg',\n",
    "      'https://adm-food-probability.s3.amazonaws.com/tuna.jpg',\n",
    "      'https://adm-food-probability.s3.amazonaws.com/cupcakes.jpg',\n",
    "      'https://adm-food-probability.s3.amazonaws.com/carrots.jpg',\n",
    "       'https://adm-food-probability.s3.amazonaws.com/meat.jpg',\n",
    "      'https://adm-food-probability.s3.amazonaws.com/curlykale.jpg',\n",
    "      'https://adm-food-probability.s3.amazonaws.com/cereal.jpg',\n",
    "      'https://adm-food-probability.s3.amazonaws.com/bread.jpg',\n",
    "      'https://adm-food-probability.s3.amazonaws.com/juice.jpg',\n",
    "      'https://adm-food-probability.s3.amazonaws.com/banana.jpg',\n",
    "      'https://adm-food-probability.s3.amazonaws.com/cheese.jpg',\n",
    "      'https://adm-food-probability.s3.amazonaws.com/cookie.jpg',\n",
    "      'https://adm-food-probability.s3.amazonaws.com/curd.jpg',\n",
    "      'https://adm-food-probability.s3.amazonaws.com/grapes.jpg',\n",
    "      'https://adm-food-probability.s3.amazonaws.com/eggs.jpg',\n",
    "      'https://adm-food-probability.s3.amazonaws.com/avocado.jpg',\n",
    "      'https://adm-food-probability.s3.amazonaws.com/chips.jpg',\n",
    "      'https://adm-food-probability.s3.amazonaws.com/coconut water.jpg',\n",
    "      'https://adm-food-probability.s3.amazonaws.com/zuccini.jpg',\n",
    "      'https://adm-food-probability.s3.amazonaws.com/walnut.jpg',\n",
    "      'https://adm-food-probability.s3.amazonaws.com/pizza.jpg',\n",
    "      'https://adm-food-probability.s3.amazonaws.com/cabbage.jpg',\n",
    "      'https://adm-food-probability.s3.amazonaws.com/fish.jpg',\n",
    "      'https://adm-food-probability.s3.amazonaws.com/cereals.jpg',\n",
    "      'https://adm-food-probability.s3.amazonaws.com/spaghetti.jpg',\n",
    "      'https://adm-food-probability.s3.amazonaws.com/rice.jpg',\n",
    "      'https://adm-food-probability.s3.amazonaws.com/apple.jpg',\n",
    "      'https://adm-food-probability.s3.amazonaws.com/tortilla.jpg',\n",
    "      'https://adm-food-probability.s3.amazonaws.com/frozen.jpg']"
   ]
  },
  {
   "cell_type": "code",
   "execution_count": 47,
   "metadata": {},
   "outputs": [
    {
     "data": {
      "text/plain": [
       "['https://adm-food-probability.s3.amazonaws.com/salad.jpg',\n",
       " 'https://adm-food-probability.s3.amazonaws.com/milk.jpg',\n",
       " 'https://adm-food-probability.s3.amazonaws.com/tuna.jpg',\n",
       " 'https://adm-food-probability.s3.amazonaws.com/cupcakes.jpg',\n",
       " 'https://adm-food-probability.s3.amazonaws.com/carrots.jpg',\n",
       " 'https://adm-food-probability.s3.amazonaws.com/meat.jpg',\n",
       " 'https://adm-food-probability.s3.amazonaws.com/curlykale.jpg',\n",
       " 'https://adm-food-probability.s3.amazonaws.com/cereal.jpg',\n",
       " 'https://adm-food-probability.s3.amazonaws.com/bread.jpg',\n",
       " 'https://adm-food-probability.s3.amazonaws.com/juice.jpg',\n",
       " 'https://adm-food-probability.s3.amazonaws.com/banana.jpg',\n",
       " 'https://adm-food-probability.s3.amazonaws.com/cheese.jpg',\n",
       " 'https://adm-food-probability.s3.amazonaws.com/cookie.jpg',\n",
       " 'https://adm-food-probability.s3.amazonaws.com/curd.jpg',\n",
       " 'https://adm-food-probability.s3.amazonaws.com/grapes.jpg',\n",
       " 'https://adm-food-probability.s3.amazonaws.com/eggs.jpg',\n",
       " 'https://adm-food-probability.s3.amazonaws.com/avocado.jpg',\n",
       " 'https://adm-food-probability.s3.amazonaws.com/chips.jpg',\n",
       " 'https://adm-food-probability.s3.amazonaws.com/coconut water.jpg',\n",
       " 'https://adm-food-probability.s3.amazonaws.com/zuccini.jpg',\n",
       " 'https://adm-food-probability.s3.amazonaws.com/walnut.jpg',\n",
       " 'https://adm-food-probability.s3.amazonaws.com/pizza.jpg',\n",
       " 'https://adm-food-probability.s3.amazonaws.com/cabbage.jpg',\n",
       " 'https://adm-food-probability.s3.amazonaws.com/fish.jpg',\n",
       " 'https://adm-food-probability.s3.amazonaws.com/cereals.jpg',\n",
       " 'https://adm-food-probability.s3.amazonaws.com/spaghetti.jpg',\n",
       " 'https://adm-food-probability.s3.amazonaws.com/rice.jpg',\n",
       " 'https://adm-food-probability.s3.amazonaws.com/apple.jpg',\n",
       " 'https://adm-food-probability.s3.amazonaws.com/tortilla.jpg',\n",
       " 'https://adm-food-probability.s3.amazonaws.com/frozen.jpg']"
      ]
     },
     "execution_count": 47,
     "metadata": {},
     "output_type": "execute_result"
    }
   ],
   "source": [
    "img"
   ]
  },
  {
   "cell_type": "code",
   "execution_count": 48,
   "metadata": {},
   "outputs": [
    {
     "data": {
      "text/plain": [
       "30"
      ]
     },
     "execution_count": 48,
     "metadata": {},
     "output_type": "execute_result"
    }
   ],
   "source": [
    "len(food_df)"
   ]
  },
  {
   "cell_type": "code",
   "execution_count": 49,
   "metadata": {},
   "outputs": [
    {
     "data": {
      "text/plain": [
       "30"
      ]
     },
     "execution_count": 49,
     "metadata": {},
     "output_type": "execute_result"
    }
   ],
   "source": [
    "len(img)"
   ]
  },
  {
   "cell_type": "code",
   "execution_count": 50,
   "metadata": {},
   "outputs": [],
   "source": [
    "food_df['img']=img"
   ]
  },
  {
   "cell_type": "code",
   "execution_count": 51,
   "metadata": {},
   "outputs": [],
   "source": [
    "result_df = pd.merge(top_k_scores,food_df, on='productId')\n"
   ]
  },
  {
   "cell_type": "code",
   "execution_count": 52,
   "metadata": {},
   "outputs": [],
   "source": [
    "result_df = result_df.sample(frac=1).reset_index(drop=True)"
   ]
  },
  {
   "cell_type": "code",
   "execution_count": 53,
   "metadata": {},
   "outputs": [
    {
     "data": {
      "text/html": [
       "<div>\n",
       "<style scoped>\n",
       "    .dataframe tbody tr th:only-of-type {\n",
       "        vertical-align: middle;\n",
       "    }\n",
       "\n",
       "    .dataframe tbody tr th {\n",
       "        vertical-align: top;\n",
       "    }\n",
       "\n",
       "    .dataframe thead th {\n",
       "        text-align: right;\n",
       "    }\n",
       "</style>\n",
       "<table border=\"1\" class=\"dataframe\">\n",
       "  <thead>\n",
       "    <tr style=\"text-align: right;\">\n",
       "      <th></th>\n",
       "      <th>userId</th>\n",
       "      <th>productId</th>\n",
       "      <th>Prediction</th>\n",
       "      <th>Product Name</th>\n",
       "      <th>Price</th>\n",
       "      <th>img</th>\n",
       "    </tr>\n",
       "  </thead>\n",
       "  <tbody>\n",
       "    <tr>\n",
       "      <th>388</th>\n",
       "      <td>2</td>\n",
       "      <td>127</td>\n",
       "      <td>3.725677</td>\n",
       "      <td>pizza</td>\n",
       "      <td>8</td>\n",
       "      <td>https://adm-food-probability.s3.amazonaws.com/...</td>\n",
       "    </tr>\n",
       "    <tr>\n",
       "      <th>958</th>\n",
       "      <td>2</td>\n",
       "      <td>118</td>\n",
       "      <td>1.640328</td>\n",
       "      <td>Curd</td>\n",
       "      <td>13</td>\n",
       "      <td>https://adm-food-probability.s3.amazonaws.com/...</td>\n",
       "    </tr>\n",
       "    <tr>\n",
       "      <th>1812</th>\n",
       "      <td>2</td>\n",
       "      <td>128</td>\n",
       "      <td>2.455995</td>\n",
       "      <td>coconut water</td>\n",
       "      <td>15</td>\n",
       "      <td>https://adm-food-probability.s3.amazonaws.com/...</td>\n",
       "    </tr>\n",
       "    <tr>\n",
       "      <th>2443</th>\n",
       "      <td>2</td>\n",
       "      <td>120</td>\n",
       "      <td>3.245828</td>\n",
       "      <td>Eggs</td>\n",
       "      <td>8</td>\n",
       "      <td>https://adm-food-probability.s3.amazonaws.com/...</td>\n",
       "    </tr>\n",
       "    <tr>\n",
       "      <th>3472</th>\n",
       "      <td>2</td>\n",
       "      <td>115</td>\n",
       "      <td>2.948685</td>\n",
       "      <td>Cabbage</td>\n",
       "      <td>5</td>\n",
       "      <td>https://adm-food-probability.s3.amazonaws.com/...</td>\n",
       "    </tr>\n",
       "    <tr>\n",
       "      <th>5042</th>\n",
       "      <td>2</td>\n",
       "      <td>124</td>\n",
       "      <td>1.763601</td>\n",
       "      <td>Carrots</td>\n",
       "      <td>10</td>\n",
       "      <td>https://adm-food-probability.s3.amazonaws.com/...</td>\n",
       "    </tr>\n",
       "    <tr>\n",
       "      <th>6010</th>\n",
       "      <td>2</td>\n",
       "      <td>112</td>\n",
       "      <td>2.840998</td>\n",
       "      <td>Rice</td>\n",
       "      <td>11</td>\n",
       "      <td>https://adm-food-probability.s3.amazonaws.com/...</td>\n",
       "    </tr>\n",
       "    <tr>\n",
       "      <th>7056</th>\n",
       "      <td>2</td>\n",
       "      <td>117</td>\n",
       "      <td>3.196229</td>\n",
       "      <td>Frozen</td>\n",
       "      <td>8</td>\n",
       "      <td>https://adm-food-probability.s3.amazonaws.com/...</td>\n",
       "    </tr>\n",
       "    <tr>\n",
       "      <th>7570</th>\n",
       "      <td>2</td>\n",
       "      <td>100</td>\n",
       "      <td>2.124599</td>\n",
       "      <td>Juice</td>\n",
       "      <td>6</td>\n",
       "      <td>https://adm-food-probability.s3.amazonaws.com/...</td>\n",
       "    </tr>\n",
       "    <tr>\n",
       "      <th>11206</th>\n",
       "      <td>2</td>\n",
       "      <td>105</td>\n",
       "      <td>2.921370</td>\n",
       "      <td>Meat</td>\n",
       "      <td>15</td>\n",
       "      <td>https://adm-food-probability.s3.amazonaws.com/...</td>\n",
       "    </tr>\n",
       "    <tr>\n",
       "      <th>11383</th>\n",
       "      <td>2</td>\n",
       "      <td>108</td>\n",
       "      <td>3.436233</td>\n",
       "      <td>Grapes</td>\n",
       "      <td>7</td>\n",
       "      <td>https://adm-food-probability.s3.amazonaws.com/...</td>\n",
       "    </tr>\n",
       "    <tr>\n",
       "      <th>12609</th>\n",
       "      <td>2</td>\n",
       "      <td>121</td>\n",
       "      <td>3.174437</td>\n",
       "      <td>Milk</td>\n",
       "      <td>9</td>\n",
       "      <td>https://adm-food-probability.s3.amazonaws.com/...</td>\n",
       "    </tr>\n",
       "    <tr>\n",
       "      <th>13149</th>\n",
       "      <td>2</td>\n",
       "      <td>106</td>\n",
       "      <td>3.237953</td>\n",
       "      <td>Fish</td>\n",
       "      <td>5</td>\n",
       "      <td>https://adm-food-probability.s3.amazonaws.com/...</td>\n",
       "    </tr>\n",
       "    <tr>\n",
       "      <th>13252</th>\n",
       "      <td>2</td>\n",
       "      <td>103</td>\n",
       "      <td>3.581521</td>\n",
       "      <td>Cheese</td>\n",
       "      <td>6</td>\n",
       "      <td>https://adm-food-probability.s3.amazonaws.com/...</td>\n",
       "    </tr>\n",
       "    <tr>\n",
       "      <th>14422</th>\n",
       "      <td>2</td>\n",
       "      <td>126</td>\n",
       "      <td>3.572212</td>\n",
       "      <td>Tuna</td>\n",
       "      <td>5</td>\n",
       "      <td>https://adm-food-probability.s3.amazonaws.com/...</td>\n",
       "    </tr>\n",
       "    <tr>\n",
       "      <th>15091</th>\n",
       "      <td>2</td>\n",
       "      <td>116</td>\n",
       "      <td>3.002268</td>\n",
       "      <td>Salad</td>\n",
       "      <td>6</td>\n",
       "      <td>https://adm-food-probability.s3.amazonaws.com/...</td>\n",
       "    </tr>\n",
       "    <tr>\n",
       "      <th>15488</th>\n",
       "      <td>2</td>\n",
       "      <td>107</td>\n",
       "      <td>3.469532</td>\n",
       "      <td>Banana</td>\n",
       "      <td>15</td>\n",
       "      <td>https://adm-food-probability.s3.amazonaws.com/...</td>\n",
       "    </tr>\n",
       "    <tr>\n",
       "      <th>15562</th>\n",
       "      <td>2</td>\n",
       "      <td>125</td>\n",
       "      <td>3.473061</td>\n",
       "      <td>Zhucchini</td>\n",
       "      <td>6</td>\n",
       "      <td>https://adm-food-probability.s3.amazonaws.com/...</td>\n",
       "    </tr>\n",
       "    <tr>\n",
       "      <th>16579</th>\n",
       "      <td>2</td>\n",
       "      <td>102</td>\n",
       "      <td>2.361446</td>\n",
       "      <td>Sphagetti</td>\n",
       "      <td>14</td>\n",
       "      <td>https://adm-food-probability.s3.amazonaws.com/...</td>\n",
       "    </tr>\n",
       "    <tr>\n",
       "      <th>16734</th>\n",
       "      <td>2</td>\n",
       "      <td>114</td>\n",
       "      <td>4.106761</td>\n",
       "      <td>Apples</td>\n",
       "      <td>9</td>\n",
       "      <td>https://adm-food-probability.s3.amazonaws.com/...</td>\n",
       "    </tr>\n",
       "    <tr>\n",
       "      <th>16921</th>\n",
       "      <td>2</td>\n",
       "      <td>109</td>\n",
       "      <td>2.574600</td>\n",
       "      <td>Cupcake</td>\n",
       "      <td>9</td>\n",
       "      <td>https://adm-food-probability.s3.amazonaws.com/...</td>\n",
       "    </tr>\n",
       "    <tr>\n",
       "      <th>17927</th>\n",
       "      <td>2</td>\n",
       "      <td>111</td>\n",
       "      <td>2.449080</td>\n",
       "      <td>Cereals</td>\n",
       "      <td>5</td>\n",
       "      <td>https://adm-food-probability.s3.amazonaws.com/...</td>\n",
       "    </tr>\n",
       "    <tr>\n",
       "      <th>18263</th>\n",
       "      <td>2</td>\n",
       "      <td>110</td>\n",
       "      <td>3.236552</td>\n",
       "      <td>Curly Kale</td>\n",
       "      <td>5</td>\n",
       "      <td>https://adm-food-probability.s3.amazonaws.com/...</td>\n",
       "    </tr>\n",
       "  </tbody>\n",
       "</table>\n",
       "</div>"
      ],
      "text/plain": [
       "      userId  productId  Prediction   Product Name  Price  \\\n",
       "388        2        127    3.725677          pizza      8   \n",
       "958        2        118    1.640328           Curd     13   \n",
       "1812       2        128    2.455995  coconut water     15   \n",
       "2443       2        120    3.245828           Eggs      8   \n",
       "3472       2        115    2.948685        Cabbage      5   \n",
       "5042       2        124    1.763601        Carrots     10   \n",
       "6010       2        112    2.840998           Rice     11   \n",
       "7056       2        117    3.196229         Frozen      8   \n",
       "7570       2        100    2.124599          Juice      6   \n",
       "11206      2        105    2.921370           Meat     15   \n",
       "11383      2        108    3.436233         Grapes      7   \n",
       "12609      2        121    3.174437           Milk      9   \n",
       "13149      2        106    3.237953           Fish      5   \n",
       "13252      2        103    3.581521         Cheese      6   \n",
       "14422      2        126    3.572212           Tuna      5   \n",
       "15091      2        116    3.002268          Salad      6   \n",
       "15488      2        107    3.469532         Banana     15   \n",
       "15562      2        125    3.473061      Zhucchini      6   \n",
       "16579      2        102    2.361446      Sphagetti     14   \n",
       "16734      2        114    4.106761         Apples      9   \n",
       "16921      2        109    2.574600        Cupcake      9   \n",
       "17927      2        111    2.449080        Cereals      5   \n",
       "18263      2        110    3.236552     Curly Kale      5   \n",
       "\n",
       "                                                     img  \n",
       "388    https://adm-food-probability.s3.amazonaws.com/...  \n",
       "958    https://adm-food-probability.s3.amazonaws.com/...  \n",
       "1812   https://adm-food-probability.s3.amazonaws.com/...  \n",
       "2443   https://adm-food-probability.s3.amazonaws.com/...  \n",
       "3472   https://adm-food-probability.s3.amazonaws.com/...  \n",
       "5042   https://adm-food-probability.s3.amazonaws.com/...  \n",
       "6010   https://adm-food-probability.s3.amazonaws.com/...  \n",
       "7056   https://adm-food-probability.s3.amazonaws.com/...  \n",
       "7570   https://adm-food-probability.s3.amazonaws.com/...  \n",
       "11206  https://adm-food-probability.s3.amazonaws.com/...  \n",
       "11383  https://adm-food-probability.s3.amazonaws.com/...  \n",
       "12609  https://adm-food-probability.s3.amazonaws.com/...  \n",
       "13149  https://adm-food-probability.s3.amazonaws.com/...  \n",
       "13252  https://adm-food-probability.s3.amazonaws.com/...  \n",
       "14422  https://adm-food-probability.s3.amazonaws.com/...  \n",
       "15091  https://adm-food-probability.s3.amazonaws.com/...  \n",
       "15488  https://adm-food-probability.s3.amazonaws.com/...  \n",
       "15562  https://adm-food-probability.s3.amazonaws.com/...  \n",
       "16579  https://adm-food-probability.s3.amazonaws.com/...  \n",
       "16734  https://adm-food-probability.s3.amazonaws.com/...  \n",
       "16921  https://adm-food-probability.s3.amazonaws.com/...  \n",
       "17927  https://adm-food-probability.s3.amazonaws.com/...  \n",
       "18263  https://adm-food-probability.s3.amazonaws.com/...  "
      ]
     },
     "execution_count": 53,
     "metadata": {},
     "output_type": "execute_result"
    }
   ],
   "source": [
    "result_df[result_df[\"userId\"] == '2']\n"
   ]
  },
  {
   "cell_type": "code",
   "execution_count": 54,
   "metadata": {},
   "outputs": [
    {
     "data": {
      "text/html": [
       "<div>\n",
       "<style scoped>\n",
       "    .dataframe tbody tr th:only-of-type {\n",
       "        vertical-align: middle;\n",
       "    }\n",
       "\n",
       "    .dataframe tbody tr th {\n",
       "        vertical-align: top;\n",
       "    }\n",
       "\n",
       "    .dataframe thead th {\n",
       "        text-align: right;\n",
       "    }\n",
       "</style>\n",
       "<table border=\"1\" class=\"dataframe\">\n",
       "  <thead>\n",
       "    <tr style=\"text-align: right;\">\n",
       "      <th></th>\n",
       "      <th>userId</th>\n",
       "      <th>productId</th>\n",
       "      <th>Prediction</th>\n",
       "      <th>Product Name</th>\n",
       "      <th>Price</th>\n",
       "      <th>img</th>\n",
       "    </tr>\n",
       "  </thead>\n",
       "  <tbody>\n",
       "    <tr>\n",
       "      <th>0</th>\n",
       "      <td>1</td>\n",
       "      <td>109</td>\n",
       "      <td>3.859690</td>\n",
       "      <td>Cupcake</td>\n",
       "      <td>9</td>\n",
       "      <td>https://adm-food-probability.s3.amazonaws.com/...</td>\n",
       "    </tr>\n",
       "    <tr>\n",
       "      <th>1</th>\n",
       "      <td>1</td>\n",
       "      <td>104</td>\n",
       "      <td>3.710047</td>\n",
       "      <td>Cookie</td>\n",
       "      <td>5</td>\n",
       "      <td>https://adm-food-probability.s3.amazonaws.com/...</td>\n",
       "    </tr>\n",
       "    <tr>\n",
       "      <th>2</th>\n",
       "      <td>1</td>\n",
       "      <td>124</td>\n",
       "      <td>3.264657</td>\n",
       "      <td>Carrots</td>\n",
       "      <td>10</td>\n",
       "      <td>https://adm-food-probability.s3.amazonaws.com/...</td>\n",
       "    </tr>\n",
       "    <tr>\n",
       "      <th>3</th>\n",
       "      <td>1</td>\n",
       "      <td>121</td>\n",
       "      <td>3.103421</td>\n",
       "      <td>Milk</td>\n",
       "      <td>9</td>\n",
       "      <td>https://adm-food-probability.s3.amazonaws.com/...</td>\n",
       "    </tr>\n",
       "    <tr>\n",
       "      <th>4</th>\n",
       "      <td>1</td>\n",
       "      <td>118</td>\n",
       "      <td>2.982810</td>\n",
       "      <td>Curd</td>\n",
       "      <td>13</td>\n",
       "      <td>https://adm-food-probability.s3.amazonaws.com/...</td>\n",
       "    </tr>\n",
       "  </tbody>\n",
       "</table>\n",
       "</div>"
      ],
      "text/plain": [
       "  userId  productId  Prediction Product Name  Price  \\\n",
       "0      1        109    3.859690      Cupcake      9   \n",
       "1      1        104    3.710047       Cookie      5   \n",
       "2      1        124    3.264657      Carrots     10   \n",
       "3      1        121    3.103421         Milk      9   \n",
       "4      1        118    2.982810         Curd     13   \n",
       "\n",
       "                                                 img  \n",
       "0  https://adm-food-probability.s3.amazonaws.com/...  \n",
       "1  https://adm-food-probability.s3.amazonaws.com/...  \n",
       "2  https://adm-food-probability.s3.amazonaws.com/...  \n",
       "3  https://adm-food-probability.s3.amazonaws.com/...  \n",
       "4  https://adm-food-probability.s3.amazonaws.com/...  "
      ]
     },
     "execution_count": 54,
     "metadata": {},
     "output_type": "execute_result"
    }
   ],
   "source": [
    "(result_df[result_df[\"userId\"] == '1']).sort_values(by='Prediction', ascending=False).reset_index(drop=True).loc[0:4,:]"
   ]
  },
  {
   "cell_type": "code",
   "execution_count": 55,
   "metadata": {},
   "outputs": [],
   "source": [
    "test = result_df.sort_values(['Prediction'], ascending=False)"
   ]
  },
  {
   "cell_type": "code",
   "execution_count": 56,
   "metadata": {},
   "outputs": [
    {
     "data": {
      "text/html": [
       "<div>\n",
       "<style scoped>\n",
       "    .dataframe tbody tr th:only-of-type {\n",
       "        vertical-align: middle;\n",
       "    }\n",
       "\n",
       "    .dataframe tbody tr th {\n",
       "        vertical-align: top;\n",
       "    }\n",
       "\n",
       "    .dataframe thead th {\n",
       "        text-align: right;\n",
       "    }\n",
       "</style>\n",
       "<table border=\"1\" class=\"dataframe\">\n",
       "  <thead>\n",
       "    <tr style=\"text-align: right;\">\n",
       "      <th></th>\n",
       "      <th>userId</th>\n",
       "      <th>productId</th>\n",
       "      <th>Prediction</th>\n",
       "      <th>Product Name</th>\n",
       "      <th>Price</th>\n",
       "      <th>img</th>\n",
       "    </tr>\n",
       "  </thead>\n",
       "  <tbody>\n",
       "    <tr>\n",
       "      <th>16734</th>\n",
       "      <td>2</td>\n",
       "      <td>114</td>\n",
       "      <td>4.106761</td>\n",
       "      <td>Apples</td>\n",
       "      <td>9</td>\n",
       "      <td>https://adm-food-probability.s3.amazonaws.com/...</td>\n",
       "    </tr>\n",
       "    <tr>\n",
       "      <th>388</th>\n",
       "      <td>2</td>\n",
       "      <td>127</td>\n",
       "      <td>3.725677</td>\n",
       "      <td>pizza</td>\n",
       "      <td>8</td>\n",
       "      <td>https://adm-food-probability.s3.amazonaws.com/...</td>\n",
       "    </tr>\n",
       "    <tr>\n",
       "      <th>13252</th>\n",
       "      <td>2</td>\n",
       "      <td>103</td>\n",
       "      <td>3.581521</td>\n",
       "      <td>Cheese</td>\n",
       "      <td>6</td>\n",
       "      <td>https://adm-food-probability.s3.amazonaws.com/...</td>\n",
       "    </tr>\n",
       "    <tr>\n",
       "      <th>14422</th>\n",
       "      <td>2</td>\n",
       "      <td>126</td>\n",
       "      <td>3.572212</td>\n",
       "      <td>Tuna</td>\n",
       "      <td>5</td>\n",
       "      <td>https://adm-food-probability.s3.amazonaws.com/...</td>\n",
       "    </tr>\n",
       "    <tr>\n",
       "      <th>15562</th>\n",
       "      <td>2</td>\n",
       "      <td>125</td>\n",
       "      <td>3.473061</td>\n",
       "      <td>Zhucchini</td>\n",
       "      <td>6</td>\n",
       "      <td>https://adm-food-probability.s3.amazonaws.com/...</td>\n",
       "    </tr>\n",
       "    <tr>\n",
       "      <th>15488</th>\n",
       "      <td>2</td>\n",
       "      <td>107</td>\n",
       "      <td>3.469532</td>\n",
       "      <td>Banana</td>\n",
       "      <td>15</td>\n",
       "      <td>https://adm-food-probability.s3.amazonaws.com/...</td>\n",
       "    </tr>\n",
       "    <tr>\n",
       "      <th>11383</th>\n",
       "      <td>2</td>\n",
       "      <td>108</td>\n",
       "      <td>3.436233</td>\n",
       "      <td>Grapes</td>\n",
       "      <td>7</td>\n",
       "      <td>https://adm-food-probability.s3.amazonaws.com/...</td>\n",
       "    </tr>\n",
       "    <tr>\n",
       "      <th>2443</th>\n",
       "      <td>2</td>\n",
       "      <td>120</td>\n",
       "      <td>3.245828</td>\n",
       "      <td>Eggs</td>\n",
       "      <td>8</td>\n",
       "      <td>https://adm-food-probability.s3.amazonaws.com/...</td>\n",
       "    </tr>\n",
       "    <tr>\n",
       "      <th>13149</th>\n",
       "      <td>2</td>\n",
       "      <td>106</td>\n",
       "      <td>3.237953</td>\n",
       "      <td>Fish</td>\n",
       "      <td>5</td>\n",
       "      <td>https://adm-food-probability.s3.amazonaws.com/...</td>\n",
       "    </tr>\n",
       "    <tr>\n",
       "      <th>18263</th>\n",
       "      <td>2</td>\n",
       "      <td>110</td>\n",
       "      <td>3.236552</td>\n",
       "      <td>Curly Kale</td>\n",
       "      <td>5</td>\n",
       "      <td>https://adm-food-probability.s3.amazonaws.com/...</td>\n",
       "    </tr>\n",
       "  </tbody>\n",
       "</table>\n",
       "</div>"
      ],
      "text/plain": [
       "      userId  productId  Prediction Product Name  Price  \\\n",
       "16734      2        114    4.106761       Apples      9   \n",
       "388        2        127    3.725677        pizza      8   \n",
       "13252      2        103    3.581521       Cheese      6   \n",
       "14422      2        126    3.572212         Tuna      5   \n",
       "15562      2        125    3.473061    Zhucchini      6   \n",
       "15488      2        107    3.469532       Banana     15   \n",
       "11383      2        108    3.436233       Grapes      7   \n",
       "2443       2        120    3.245828         Eggs      8   \n",
       "13149      2        106    3.237953         Fish      5   \n",
       "18263      2        110    3.236552   Curly Kale      5   \n",
       "\n",
       "                                                     img  \n",
       "16734  https://adm-food-probability.s3.amazonaws.com/...  \n",
       "388    https://adm-food-probability.s3.amazonaws.com/...  \n",
       "13252  https://adm-food-probability.s3.amazonaws.com/...  \n",
       "14422  https://adm-food-probability.s3.amazonaws.com/...  \n",
       "15562  https://adm-food-probability.s3.amazonaws.com/...  \n",
       "15488  https://adm-food-probability.s3.amazonaws.com/...  \n",
       "11383  https://adm-food-probability.s3.amazonaws.com/...  \n",
       "2443   https://adm-food-probability.s3.amazonaws.com/...  \n",
       "13149  https://adm-food-probability.s3.amazonaws.com/...  \n",
       "18263  https://adm-food-probability.s3.amazonaws.com/...  "
      ]
     },
     "execution_count": 56,
     "metadata": {},
     "output_type": "execute_result"
    }
   ],
   "source": [
    "test[test[\"userId\"] == '2'].head(10)"
   ]
  },
  {
   "cell_type": "code",
   "execution_count": 57,
   "metadata": {},
   "outputs": [],
   "source": [
    "test1 = test.copy()"
   ]
  },
  {
   "cell_type": "code",
   "execution_count": 58,
   "metadata": {},
   "outputs": [],
   "source": [
    "test1['Prediction'] = test1['Prediction'].apply(np.ceil)"
   ]
  },
  {
   "cell_type": "code",
   "execution_count": 59,
   "metadata": {},
   "outputs": [],
   "source": [
    "test1 = test1.sort_values(by='Prediction', ascending=False).reset_index(drop=True)"
   ]
  },
  {
   "cell_type": "code",
   "execution_count": 60,
   "metadata": {},
   "outputs": [
    {
     "data": {
      "text/html": [
       "<div>\n",
       "<style scoped>\n",
       "    .dataframe tbody tr th:only-of-type {\n",
       "        vertical-align: middle;\n",
       "    }\n",
       "\n",
       "    .dataframe tbody tr th {\n",
       "        vertical-align: top;\n",
       "    }\n",
       "\n",
       "    .dataframe thead th {\n",
       "        text-align: right;\n",
       "    }\n",
       "</style>\n",
       "<table border=\"1\" class=\"dataframe\">\n",
       "  <thead>\n",
       "    <tr style=\"text-align: right;\">\n",
       "      <th></th>\n",
       "      <th>userId</th>\n",
       "      <th>productId</th>\n",
       "      <th>Prediction</th>\n",
       "      <th>Product Name</th>\n",
       "      <th>Price</th>\n",
       "      <th>img</th>\n",
       "    </tr>\n",
       "  </thead>\n",
       "  <tbody>\n",
       "    <tr>\n",
       "      <th>0</th>\n",
       "      <td>786</td>\n",
       "      <td>103</td>\n",
       "      <td>5.0</td>\n",
       "      <td>Cheese</td>\n",
       "      <td>6</td>\n",
       "      <td>https://adm-food-probability.s3.amazonaws.com/...</td>\n",
       "    </tr>\n",
       "    <tr>\n",
       "      <th>1</th>\n",
       "      <td>43</td>\n",
       "      <td>126</td>\n",
       "      <td>5.0</td>\n",
       "      <td>Tuna</td>\n",
       "      <td>5</td>\n",
       "      <td>https://adm-food-probability.s3.amazonaws.com/...</td>\n",
       "    </tr>\n",
       "    <tr>\n",
       "      <th>2</th>\n",
       "      <td>25</td>\n",
       "      <td>126</td>\n",
       "      <td>5.0</td>\n",
       "      <td>Tuna</td>\n",
       "      <td>5</td>\n",
       "      <td>https://adm-food-probability.s3.amazonaws.com/...</td>\n",
       "    </tr>\n",
       "    <tr>\n",
       "      <th>3</th>\n",
       "      <td>981</td>\n",
       "      <td>119</td>\n",
       "      <td>5.0</td>\n",
       "      <td>Cereals</td>\n",
       "      <td>14</td>\n",
       "      <td>https://adm-food-probability.s3.amazonaws.com/...</td>\n",
       "    </tr>\n",
       "    <tr>\n",
       "      <th>4</th>\n",
       "      <td>717</td>\n",
       "      <td>129</td>\n",
       "      <td>5.0</td>\n",
       "      <td>Avocado</td>\n",
       "      <td>6</td>\n",
       "      <td>https://adm-food-probability.s3.amazonaws.com/...</td>\n",
       "    </tr>\n",
       "    <tr>\n",
       "      <th>...</th>\n",
       "      <td>...</td>\n",
       "      <td>...</td>\n",
       "      <td>...</td>\n",
       "      <td>...</td>\n",
       "      <td>...</td>\n",
       "      <td>...</td>\n",
       "    </tr>\n",
       "    <tr>\n",
       "      <th>18902</th>\n",
       "      <td>624</td>\n",
       "      <td>106</td>\n",
       "      <td>2.0</td>\n",
       "      <td>Fish</td>\n",
       "      <td>5</td>\n",
       "      <td>https://adm-food-probability.s3.amazonaws.com/...</td>\n",
       "    </tr>\n",
       "    <tr>\n",
       "      <th>18903</th>\n",
       "      <td>570</td>\n",
       "      <td>113</td>\n",
       "      <td>2.0</td>\n",
       "      <td>walnut</td>\n",
       "      <td>14</td>\n",
       "      <td>https://adm-food-probability.s3.amazonaws.com/...</td>\n",
       "    </tr>\n",
       "    <tr>\n",
       "      <th>18904</th>\n",
       "      <td>683</td>\n",
       "      <td>108</td>\n",
       "      <td>2.0</td>\n",
       "      <td>Grapes</td>\n",
       "      <td>7</td>\n",
       "      <td>https://adm-food-probability.s3.amazonaws.com/...</td>\n",
       "    </tr>\n",
       "    <tr>\n",
       "      <th>18905</th>\n",
       "      <td>168</td>\n",
       "      <td>126</td>\n",
       "      <td>2.0</td>\n",
       "      <td>Tuna</td>\n",
       "      <td>5</td>\n",
       "      <td>https://adm-food-probability.s3.amazonaws.com/...</td>\n",
       "    </tr>\n",
       "    <tr>\n",
       "      <th>18906</th>\n",
       "      <td>580</td>\n",
       "      <td>107</td>\n",
       "      <td>2.0</td>\n",
       "      <td>Banana</td>\n",
       "      <td>15</td>\n",
       "      <td>https://adm-food-probability.s3.amazonaws.com/...</td>\n",
       "    </tr>\n",
       "  </tbody>\n",
       "</table>\n",
       "<p>18907 rows × 6 columns</p>\n",
       "</div>"
      ],
      "text/plain": [
       "      userId  productId  Prediction Product Name  Price  \\\n",
       "0        786        103         5.0       Cheese      6   \n",
       "1         43        126         5.0         Tuna      5   \n",
       "2         25        126         5.0         Tuna      5   \n",
       "3        981        119         5.0      Cereals     14   \n",
       "4        717        129         5.0      Avocado      6   \n",
       "...      ...        ...         ...          ...    ...   \n",
       "18902    624        106         2.0         Fish      5   \n",
       "18903    570        113         2.0       walnut     14   \n",
       "18904    683        108         2.0       Grapes      7   \n",
       "18905    168        126         2.0         Tuna      5   \n",
       "18906    580        107         2.0       Banana     15   \n",
       "\n",
       "                                                     img  \n",
       "0      https://adm-food-probability.s3.amazonaws.com/...  \n",
       "1      https://adm-food-probability.s3.amazonaws.com/...  \n",
       "2      https://adm-food-probability.s3.amazonaws.com/...  \n",
       "3      https://adm-food-probability.s3.amazonaws.com/...  \n",
       "4      https://adm-food-probability.s3.amazonaws.com/...  \n",
       "...                                                  ...  \n",
       "18902  https://adm-food-probability.s3.amazonaws.com/...  \n",
       "18903  https://adm-food-probability.s3.amazonaws.com/...  \n",
       "18904  https://adm-food-probability.s3.amazonaws.com/...  \n",
       "18905  https://adm-food-probability.s3.amazonaws.com/...  \n",
       "18906  https://adm-food-probability.s3.amazonaws.com/...  \n",
       "\n",
       "[18907 rows x 6 columns]"
      ]
     },
     "execution_count": 60,
     "metadata": {},
     "output_type": "execute_result"
    }
   ],
   "source": [
    "test1"
   ]
  },
  {
   "cell_type": "code",
   "execution_count": 61,
   "metadata": {},
   "outputs": [
    {
     "data": {
      "text/html": [
       "<div>\n",
       "<style scoped>\n",
       "    .dataframe tbody tr th:only-of-type {\n",
       "        vertical-align: middle;\n",
       "    }\n",
       "\n",
       "    .dataframe tbody tr th {\n",
       "        vertical-align: top;\n",
       "    }\n",
       "\n",
       "    .dataframe thead th {\n",
       "        text-align: right;\n",
       "    }\n",
       "</style>\n",
       "<table border=\"1\" class=\"dataframe\">\n",
       "  <thead>\n",
       "    <tr style=\"text-align: right;\">\n",
       "      <th></th>\n",
       "      <th>userId</th>\n",
       "      <th>productId</th>\n",
       "      <th>Prediction</th>\n",
       "      <th>Product Name</th>\n",
       "      <th>Price</th>\n",
       "      <th>img</th>\n",
       "    </tr>\n",
       "  </thead>\n",
       "  <tbody>\n",
       "    <tr>\n",
       "      <th>29</th>\n",
       "      <td>2</td>\n",
       "      <td>114</td>\n",
       "      <td>5.0</td>\n",
       "      <td>Apples</td>\n",
       "      <td>9</td>\n",
       "      <td>https://adm-food-probability.s3.amazonaws.com/...</td>\n",
       "    </tr>\n",
       "    <tr>\n",
       "      <th>218</th>\n",
       "      <td>2</td>\n",
       "      <td>121</td>\n",
       "      <td>4.0</td>\n",
       "      <td>Milk</td>\n",
       "      <td>9</td>\n",
       "      <td>https://adm-food-probability.s3.amazonaws.com/...</td>\n",
       "    </tr>\n",
       "    <tr>\n",
       "      <th>1287</th>\n",
       "      <td>2</td>\n",
       "      <td>120</td>\n",
       "      <td>4.0</td>\n",
       "      <td>Eggs</td>\n",
       "      <td>8</td>\n",
       "      <td>https://adm-food-probability.s3.amazonaws.com/...</td>\n",
       "    </tr>\n",
       "    <tr>\n",
       "      <th>1330</th>\n",
       "      <td>2</td>\n",
       "      <td>110</td>\n",
       "      <td>4.0</td>\n",
       "      <td>Curly Kale</td>\n",
       "      <td>5</td>\n",
       "      <td>https://adm-food-probability.s3.amazonaws.com/...</td>\n",
       "    </tr>\n",
       "    <tr>\n",
       "      <th>1379</th>\n",
       "      <td>2</td>\n",
       "      <td>106</td>\n",
       "      <td>4.0</td>\n",
       "      <td>Fish</td>\n",
       "      <td>5</td>\n",
       "      <td>https://adm-food-probability.s3.amazonaws.com/...</td>\n",
       "    </tr>\n",
       "    <tr>\n",
       "      <th>1855</th>\n",
       "      <td>2</td>\n",
       "      <td>117</td>\n",
       "      <td>4.0</td>\n",
       "      <td>Frozen</td>\n",
       "      <td>8</td>\n",
       "      <td>https://adm-food-probability.s3.amazonaws.com/...</td>\n",
       "    </tr>\n",
       "    <tr>\n",
       "      <th>2913</th>\n",
       "      <td>2</td>\n",
       "      <td>116</td>\n",
       "      <td>4.0</td>\n",
       "      <td>Salad</td>\n",
       "      <td>6</td>\n",
       "      <td>https://adm-food-probability.s3.amazonaws.com/...</td>\n",
       "    </tr>\n",
       "    <tr>\n",
       "      <th>4444</th>\n",
       "      <td>2</td>\n",
       "      <td>126</td>\n",
       "      <td>4.0</td>\n",
       "      <td>Tuna</td>\n",
       "      <td>5</td>\n",
       "      <td>https://adm-food-probability.s3.amazonaws.com/...</td>\n",
       "    </tr>\n",
       "    <tr>\n",
       "      <th>4787</th>\n",
       "      <td>2</td>\n",
       "      <td>103</td>\n",
       "      <td>4.0</td>\n",
       "      <td>Cheese</td>\n",
       "      <td>6</td>\n",
       "      <td>https://adm-food-probability.s3.amazonaws.com/...</td>\n",
       "    </tr>\n",
       "    <tr>\n",
       "      <th>5040</th>\n",
       "      <td>2</td>\n",
       "      <td>107</td>\n",
       "      <td>4.0</td>\n",
       "      <td>Banana</td>\n",
       "      <td>15</td>\n",
       "      <td>https://adm-food-probability.s3.amazonaws.com/...</td>\n",
       "    </tr>\n",
       "    <tr>\n",
       "      <th>5134</th>\n",
       "      <td>2</td>\n",
       "      <td>125</td>\n",
       "      <td>4.0</td>\n",
       "      <td>Zhucchini</td>\n",
       "      <td>6</td>\n",
       "      <td>https://adm-food-probability.s3.amazonaws.com/...</td>\n",
       "    </tr>\n",
       "    <tr>\n",
       "      <th>6229</th>\n",
       "      <td>2</td>\n",
       "      <td>127</td>\n",
       "      <td>4.0</td>\n",
       "      <td>pizza</td>\n",
       "      <td>8</td>\n",
       "      <td>https://adm-food-probability.s3.amazonaws.com/...</td>\n",
       "    </tr>\n",
       "    <tr>\n",
       "      <th>7943</th>\n",
       "      <td>2</td>\n",
       "      <td>108</td>\n",
       "      <td>4.0</td>\n",
       "      <td>Grapes</td>\n",
       "      <td>7</td>\n",
       "      <td>https://adm-food-probability.s3.amazonaws.com/...</td>\n",
       "    </tr>\n",
       "    <tr>\n",
       "      <th>8901</th>\n",
       "      <td>2</td>\n",
       "      <td>109</td>\n",
       "      <td>3.0</td>\n",
       "      <td>Cupcake</td>\n",
       "      <td>9</td>\n",
       "      <td>https://adm-food-probability.s3.amazonaws.com/...</td>\n",
       "    </tr>\n",
       "    <tr>\n",
       "      <th>11818</th>\n",
       "      <td>2</td>\n",
       "      <td>100</td>\n",
       "      <td>3.0</td>\n",
       "      <td>Juice</td>\n",
       "      <td>6</td>\n",
       "      <td>https://adm-food-probability.s3.amazonaws.com/...</td>\n",
       "    </tr>\n",
       "    <tr>\n",
       "      <th>12426</th>\n",
       "      <td>2</td>\n",
       "      <td>111</td>\n",
       "      <td>3.0</td>\n",
       "      <td>Cereals</td>\n",
       "      <td>5</td>\n",
       "      <td>https://adm-food-probability.s3.amazonaws.com/...</td>\n",
       "    </tr>\n",
       "    <tr>\n",
       "      <th>12873</th>\n",
       "      <td>2</td>\n",
       "      <td>128</td>\n",
       "      <td>3.0</td>\n",
       "      <td>coconut water</td>\n",
       "      <td>15</td>\n",
       "      <td>https://adm-food-probability.s3.amazonaws.com/...</td>\n",
       "    </tr>\n",
       "    <tr>\n",
       "      <th>12967</th>\n",
       "      <td>2</td>\n",
       "      <td>102</td>\n",
       "      <td>3.0</td>\n",
       "      <td>Sphagetti</td>\n",
       "      <td>14</td>\n",
       "      <td>https://adm-food-probability.s3.amazonaws.com/...</td>\n",
       "    </tr>\n",
       "    <tr>\n",
       "      <th>13927</th>\n",
       "      <td>2</td>\n",
       "      <td>105</td>\n",
       "      <td>3.0</td>\n",
       "      <td>Meat</td>\n",
       "      <td>15</td>\n",
       "      <td>https://adm-food-probability.s3.amazonaws.com/...</td>\n",
       "    </tr>\n",
       "    <tr>\n",
       "      <th>15923</th>\n",
       "      <td>2</td>\n",
       "      <td>115</td>\n",
       "      <td>3.0</td>\n",
       "      <td>Cabbage</td>\n",
       "      <td>5</td>\n",
       "      <td>https://adm-food-probability.s3.amazonaws.com/...</td>\n",
       "    </tr>\n",
       "    <tr>\n",
       "      <th>17937</th>\n",
       "      <td>2</td>\n",
       "      <td>112</td>\n",
       "      <td>3.0</td>\n",
       "      <td>Rice</td>\n",
       "      <td>11</td>\n",
       "      <td>https://adm-food-probability.s3.amazonaws.com/...</td>\n",
       "    </tr>\n",
       "    <tr>\n",
       "      <th>18655</th>\n",
       "      <td>2</td>\n",
       "      <td>118</td>\n",
       "      <td>2.0</td>\n",
       "      <td>Curd</td>\n",
       "      <td>13</td>\n",
       "      <td>https://adm-food-probability.s3.amazonaws.com/...</td>\n",
       "    </tr>\n",
       "    <tr>\n",
       "      <th>18709</th>\n",
       "      <td>2</td>\n",
       "      <td>124</td>\n",
       "      <td>2.0</td>\n",
       "      <td>Carrots</td>\n",
       "      <td>10</td>\n",
       "      <td>https://adm-food-probability.s3.amazonaws.com/...</td>\n",
       "    </tr>\n",
       "  </tbody>\n",
       "</table>\n",
       "</div>"
      ],
      "text/plain": [
       "      userId  productId  Prediction   Product Name  Price  \\\n",
       "29         2        114         5.0         Apples      9   \n",
       "218        2        121         4.0           Milk      9   \n",
       "1287       2        120         4.0           Eggs      8   \n",
       "1330       2        110         4.0     Curly Kale      5   \n",
       "1379       2        106         4.0           Fish      5   \n",
       "1855       2        117         4.0         Frozen      8   \n",
       "2913       2        116         4.0          Salad      6   \n",
       "4444       2        126         4.0           Tuna      5   \n",
       "4787       2        103         4.0         Cheese      6   \n",
       "5040       2        107         4.0         Banana     15   \n",
       "5134       2        125         4.0      Zhucchini      6   \n",
       "6229       2        127         4.0          pizza      8   \n",
       "7943       2        108         4.0         Grapes      7   \n",
       "8901       2        109         3.0        Cupcake      9   \n",
       "11818      2        100         3.0          Juice      6   \n",
       "12426      2        111         3.0        Cereals      5   \n",
       "12873      2        128         3.0  coconut water     15   \n",
       "12967      2        102         3.0      Sphagetti     14   \n",
       "13927      2        105         3.0           Meat     15   \n",
       "15923      2        115         3.0        Cabbage      5   \n",
       "17937      2        112         3.0           Rice     11   \n",
       "18655      2        118         2.0           Curd     13   \n",
       "18709      2        124         2.0        Carrots     10   \n",
       "\n",
       "                                                     img  \n",
       "29     https://adm-food-probability.s3.amazonaws.com/...  \n",
       "218    https://adm-food-probability.s3.amazonaws.com/...  \n",
       "1287   https://adm-food-probability.s3.amazonaws.com/...  \n",
       "1330   https://adm-food-probability.s3.amazonaws.com/...  \n",
       "1379   https://adm-food-probability.s3.amazonaws.com/...  \n",
       "1855   https://adm-food-probability.s3.amazonaws.com/...  \n",
       "2913   https://adm-food-probability.s3.amazonaws.com/...  \n",
       "4444   https://adm-food-probability.s3.amazonaws.com/...  \n",
       "4787   https://adm-food-probability.s3.amazonaws.com/...  \n",
       "5040   https://adm-food-probability.s3.amazonaws.com/...  \n",
       "5134   https://adm-food-probability.s3.amazonaws.com/...  \n",
       "6229   https://adm-food-probability.s3.amazonaws.com/...  \n",
       "7943   https://adm-food-probability.s3.amazonaws.com/...  \n",
       "8901   https://adm-food-probability.s3.amazonaws.com/...  \n",
       "11818  https://adm-food-probability.s3.amazonaws.com/...  \n",
       "12426  https://adm-food-probability.s3.amazonaws.com/...  \n",
       "12873  https://adm-food-probability.s3.amazonaws.com/...  \n",
       "12967  https://adm-food-probability.s3.amazonaws.com/...  \n",
       "13927  https://adm-food-probability.s3.amazonaws.com/...  \n",
       "15923  https://adm-food-probability.s3.amazonaws.com/...  \n",
       "17937  https://adm-food-probability.s3.amazonaws.com/...  \n",
       "18655  https://adm-food-probability.s3.amazonaws.com/...  \n",
       "18709  https://adm-food-probability.s3.amazonaws.com/...  "
      ]
     },
     "execution_count": 61,
     "metadata": {},
     "output_type": "execute_result"
    }
   ],
   "source": [
    "test1[test1[\"userId\"] == '2']"
   ]
  },
  {
   "cell_type": "code",
   "execution_count": 62,
   "metadata": {},
   "outputs": [
    {
     "data": {
      "text/html": [
       "<div>\n",
       "<style scoped>\n",
       "    .dataframe tbody tr th:only-of-type {\n",
       "        vertical-align: middle;\n",
       "    }\n",
       "\n",
       "    .dataframe tbody tr th {\n",
       "        vertical-align: top;\n",
       "    }\n",
       "\n",
       "    .dataframe thead th {\n",
       "        text-align: right;\n",
       "    }\n",
       "</style>\n",
       "<table border=\"1\" class=\"dataframe\">\n",
       "  <thead>\n",
       "    <tr style=\"text-align: right;\">\n",
       "      <th></th>\n",
       "      <th>userId</th>\n",
       "      <th>productId</th>\n",
       "      <th>Prediction</th>\n",
       "      <th>Product Name</th>\n",
       "      <th>Price</th>\n",
       "      <th>img</th>\n",
       "    </tr>\n",
       "  </thead>\n",
       "  <tbody>\n",
       "    <tr>\n",
       "      <th>0</th>\n",
       "      <td>2</td>\n",
       "      <td>114</td>\n",
       "      <td>5.0</td>\n",
       "      <td>Apples</td>\n",
       "      <td>9</td>\n",
       "      <td>https://adm-food-probability.s3.amazonaws.com/...</td>\n",
       "    </tr>\n",
       "    <tr>\n",
       "      <th>1</th>\n",
       "      <td>2</td>\n",
       "      <td>126</td>\n",
       "      <td>4.0</td>\n",
       "      <td>Tuna</td>\n",
       "      <td>5</td>\n",
       "      <td>https://adm-food-probability.s3.amazonaws.com/...</td>\n",
       "    </tr>\n",
       "    <tr>\n",
       "      <th>2</th>\n",
       "      <td>2</td>\n",
       "      <td>108</td>\n",
       "      <td>4.0</td>\n",
       "      <td>Grapes</td>\n",
       "      <td>7</td>\n",
       "      <td>https://adm-food-probability.s3.amazonaws.com/...</td>\n",
       "    </tr>\n",
       "    <tr>\n",
       "      <th>3</th>\n",
       "      <td>2</td>\n",
       "      <td>121</td>\n",
       "      <td>4.0</td>\n",
       "      <td>Milk</td>\n",
       "      <td>9</td>\n",
       "      <td>https://adm-food-probability.s3.amazonaws.com/...</td>\n",
       "    </tr>\n",
       "    <tr>\n",
       "      <th>4</th>\n",
       "      <td>2</td>\n",
       "      <td>125</td>\n",
       "      <td>4.0</td>\n",
       "      <td>Zhucchini</td>\n",
       "      <td>6</td>\n",
       "      <td>https://adm-food-probability.s3.amazonaws.com/...</td>\n",
       "    </tr>\n",
       "  </tbody>\n",
       "</table>\n",
       "</div>"
      ],
      "text/plain": [
       "  userId  productId  Prediction Product Name  Price  \\\n",
       "0      2        114         5.0       Apples      9   \n",
       "1      2        126         4.0         Tuna      5   \n",
       "2      2        108         4.0       Grapes      7   \n",
       "3      2        121         4.0         Milk      9   \n",
       "4      2        125         4.0    Zhucchini      6   \n",
       "\n",
       "                                                 img  \n",
       "0  https://adm-food-probability.s3.amazonaws.com/...  \n",
       "1  https://adm-food-probability.s3.amazonaws.com/...  \n",
       "2  https://adm-food-probability.s3.amazonaws.com/...  \n",
       "3  https://adm-food-probability.s3.amazonaws.com/...  \n",
       "4  https://adm-food-probability.s3.amazonaws.com/...  "
      ]
     },
     "execution_count": 62,
     "metadata": {},
     "output_type": "execute_result"
    }
   ],
   "source": [
    "(test1[test1[\"userId\"] == '2']).sort_values(by='Prediction', ascending=False).reset_index(drop=True).loc[0:4,:]"
   ]
  },
  {
   "cell_type": "code",
   "execution_count": 63,
   "metadata": {},
   "outputs": [],
   "source": [
    "import pickle\n",
    "pickle.dump(test1, open(\"finalfastai1.pkl\", 'wb'))"
   ]
  },
  {
   "cell_type": "code",
   "execution_count": null,
   "metadata": {},
   "outputs": [],
   "source": []
  }
 ],
 "metadata": {
  "kernelspec": {
   "display_name": "Python (reco)",
   "language": "python",
   "name": "reco_base"
  },
  "language_info": {
   "codemirror_mode": {
    "name": "ipython",
    "version": 3
   },
   "file_extension": ".py",
   "mimetype": "text/x-python",
   "name": "python",
   "nbconvert_exporter": "python",
   "pygments_lexer": "ipython3",
   "version": "3.6.10"
  }
 },
 "nbformat": 4,
 "nbformat_minor": 4
}
